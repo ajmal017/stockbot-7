{
 "cells": [
  {
   "cell_type": "markdown",
   "metadata": {},
   "source": [
    "This is merely a dev place for providing some directions "
   ]
  },
  {
   "cell_type": "markdown",
   "metadata": {},
   "source": [
    "# Installing Dependencies"
   ]
  },
  {
   "cell_type": "code",
   "execution_count": 1,
   "metadata": {},
   "outputs": [
    {
     "name": "stdout",
     "output_type": "stream",
     "text": [
      "The autoreload module is not an IPython extension.\n"
     ]
    },
    {
     "name": "stderr",
     "output_type": "stream",
     "text": [
      "UsageError: Line magic function `%autoreload` not found.\n"
     ]
    }
   ],
   "source": [
    "%load_ext autoreload\n",
    "%autoreload 2"
   ]
  },
  {
   "cell_type": "code",
   "execution_count": 6,
   "metadata": {},
   "outputs": [
    {
     "name": "stdout",
     "output_type": "stream",
     "text": [
      "Requirement already satisfied: setuptools==54.2.0 in /opt/anaconda3/lib/python3.8/site-packages (from -r ../requirements.txt (line 1)) (54.2.0)\n",
      "Requirement already satisfied: numpy==1.20.2 in /opt/anaconda3/lib/python3.8/site-packages (from -r ../requirements.txt (line 2)) (1.20.2)\n",
      "Requirement already satisfied: pandas==1.2.3 in /opt/anaconda3/lib/python3.8/site-packages (from -r ../requirements.txt (line 3)) (1.2.3)\n",
      "Requirement already satisfied: scikit-learn==0.24.1 in /opt/anaconda3/lib/python3.8/site-packages (from -r ../requirements.txt (line 4)) (0.24.1)\n",
      "Requirement already satisfied: shioaji==0.3.1.dev8 in /opt/anaconda3/lib/python3.8/site-packages (from -r ../requirements.txt (line 5)) (0.3.1.dev8)\n",
      "Requirement already satisfied: yfinance==0.1.59 in /opt/anaconda3/lib/python3.8/site-packages (from -r ../requirements.txt (line 6)) (0.1.59)\n",
      "Requirement already satisfied: matplotlib==3.4.1 in /opt/anaconda3/lib/python3.8/site-packages (from -r ../requirements.txt (line 7)) (3.4.1)\n",
      "Requirement already satisfied: mplfinance==0.12.7a10 in /opt/anaconda3/lib/python3.8/site-packages (from -r ../requirements.txt (line 8)) (0.12.7a10)\n",
      "Requirement already satisfied: modal==0.4.1 in /opt/anaconda3/lib/python3.8/site-packages (from -r ../requirements.txt (line 9)) (0.4.1)\n",
      "Requirement already satisfied: torch==1.6.0 in /opt/anaconda3/lib/python3.8/site-packages (from -r ../requirements.txt (line 10)) (1.6.0)\n",
      "Requirement already satisfied: tsfresh==0.18.0 in /opt/anaconda3/lib/python3.8/site-packages (from -r ../requirements.txt (line 11)) (0.18.0)\n",
      "Requirement already satisfied: TA-Lib==0.4.19 in /opt/anaconda3/lib/python3.8/site-packages (from -r ../requirements.txt (line 12)) (0.4.19)\n",
      "Requirement already satisfied: AutoTS==0.3.1 in /opt/anaconda3/lib/python3.8/site-packages (from -r ../requirements.txt (line 13)) (0.3.1)\n",
      "Requirement already satisfied: pandas-ta==0.2.45b0 in /opt/anaconda3/lib/python3.8/site-packages (from -r ../requirements.txt (line 14)) (0.2.45b0)\n",
      "Requirement already satisfied: python-dateutil>=2.7.3 in /opt/anaconda3/lib/python3.8/site-packages (from pandas==1.2.3->-r ../requirements.txt (line 3)) (2.8.1)\n",
      "Requirement already satisfied: pytz>=2017.3 in /opt/anaconda3/lib/python3.8/site-packages (from pandas==1.2.3->-r ../requirements.txt (line 3)) (2020.1)\n",
      "Requirement already satisfied: joblib>=0.11 in /opt/anaconda3/lib/python3.8/site-packages (from scikit-learn==0.24.1->-r ../requirements.txt (line 4)) (0.16.0)\n",
      "Requirement already satisfied: scipy>=0.19.1 in /opt/anaconda3/lib/python3.8/site-packages (from scikit-learn==0.24.1->-r ../requirements.txt (line 4)) (1.5.0)\n",
      "Requirement already satisfied: threadpoolctl>=2.0.0 in /opt/anaconda3/lib/python3.8/site-packages (from scikit-learn==0.24.1->-r ../requirements.txt (line 4)) (2.1.0)\n",
      "Requirement already satisfied: loguru==0.4.1 in /opt/anaconda3/lib/python3.8/site-packages (from shioaji==0.3.1.dev8->-r ../requirements.txt (line 5)) (0.4.1)\n",
      "Requirement already satisfied: requests==2.22.0 in /opt/anaconda3/lib/python3.8/site-packages (from shioaji==0.3.1.dev8->-r ../requirements.txt (line 5)) (2.22.0)\n",
      "Requirement already satisfied: xxhash==2.0.0 in /opt/anaconda3/lib/python3.8/site-packages (from shioaji==0.3.1.dev8->-r ../requirements.txt (line 5)) (2.0.0)\n",
      "Requirement already satisfied: pysolace==0.9.8 in /opt/anaconda3/lib/python3.8/site-packages (from shioaji==0.3.1.dev8->-r ../requirements.txt (line 5)) (0.9.8)\n",
      "Requirement already satisfied: sentry-sdk==0.14.1 in /opt/anaconda3/lib/python3.8/site-packages (from shioaji==0.3.1.dev8->-r ../requirements.txt (line 5)) (0.14.1)\n",
      "Requirement already satisfied: importlib-metadata==1.6.0 in /opt/anaconda3/lib/python3.8/site-packages (from shioaji==0.3.1.dev8->-r ../requirements.txt (line 5)) (1.6.0)\n",
      "Requirement already satisfied: pydantic==1.0.0 in /opt/anaconda3/lib/python3.8/site-packages (from shioaji==0.3.1.dev8->-r ../requirements.txt (line 5)) (1.0)\n",
      "Requirement already satisfied: multitasking>=0.0.7 in /opt/anaconda3/lib/python3.8/site-packages (from yfinance==0.1.59->-r ../requirements.txt (line 6)) (0.0.9)\n",
      "Requirement already satisfied: lxml>=4.5.1 in /opt/anaconda3/lib/python3.8/site-packages (from yfinance==0.1.59->-r ../requirements.txt (line 6)) (4.5.2)\n",
      "Requirement already satisfied: kiwisolver>=1.0.1 in /opt/anaconda3/lib/python3.8/site-packages (from matplotlib==3.4.1->-r ../requirements.txt (line 7)) (1.2.0)\n",
      "Requirement already satisfied: cycler>=0.10 in /opt/anaconda3/lib/python3.8/site-packages (from matplotlib==3.4.1->-r ../requirements.txt (line 7)) (0.10.0)\n",
      "Requirement already satisfied: pyparsing>=2.2.1 in /opt/anaconda3/lib/python3.8/site-packages (from matplotlib==3.4.1->-r ../requirements.txt (line 7)) (2.4.7)\n",
      "Requirement already satisfied: pillow>=6.2.0 in /opt/anaconda3/lib/python3.8/site-packages (from matplotlib==3.4.1->-r ../requirements.txt (line 7)) (7.2.0)\n",
      "Requirement already satisfied: future in /opt/anaconda3/lib/python3.8/site-packages (from torch==1.6.0->-r ../requirements.txt (line 10)) (0.18.2)\n",
      "Requirement already satisfied: matrixprofile>=1.1.10<2.0.0 in /opt/anaconda3/lib/python3.8/site-packages (from tsfresh==0.18.0->-r ../requirements.txt (line 11)) (1.1.10)\n",
      "Requirement already satisfied: distributed>=2.11.0 in /opt/anaconda3/lib/python3.8/site-packages (from tsfresh==0.18.0->-r ../requirements.txt (line 11)) (2.20.0)\n",
      "Requirement already satisfied: tqdm>=4.10.0 in /opt/anaconda3/lib/python3.8/site-packages (from tsfresh==0.18.0->-r ../requirements.txt (line 11)) (4.47.0)\n",
      "Requirement already satisfied: patsy>=0.4.1 in /opt/anaconda3/lib/python3.8/site-packages (from tsfresh==0.18.0->-r ../requirements.txt (line 11)) (0.5.1)\n",
      "Requirement already satisfied: statsmodels>=0.9.0 in /opt/anaconda3/lib/python3.8/site-packages (from tsfresh==0.18.0->-r ../requirements.txt (line 11)) (0.11.1)\n",
      "Requirement already satisfied: dask[dataframe]>=2.9.0 in /opt/anaconda3/lib/python3.8/site-packages (from tsfresh==0.18.0->-r ../requirements.txt (line 11)) (2.20.0)\n",
      "Requirement already satisfied: stumpy>=1.7.2 in /opt/anaconda3/lib/python3.8/site-packages (from tsfresh==0.18.0->-r ../requirements.txt (line 11)) (1.8.0)\n",
      "Requirement already satisfied: six>=1.5 in /opt/anaconda3/lib/python3.8/site-packages (from python-dateutil>=2.7.3->pandas==1.2.3->-r ../requirements.txt (line 3)) (1.15.0)\n",
      "Requirement already satisfied: certifi>=2017.4.17 in /opt/anaconda3/lib/python3.8/site-packages (from requests==2.22.0->shioaji==0.3.1.dev8->-r ../requirements.txt (line 5)) (2020.6.20)\n",
      "Requirement already satisfied: idna<2.9,>=2.5 in /opt/anaconda3/lib/python3.8/site-packages (from requests==2.22.0->shioaji==0.3.1.dev8->-r ../requirements.txt (line 5)) (2.8)\n",
      "Requirement already satisfied: urllib3!=1.25.0,!=1.25.1,<1.26,>=1.21.1 in /opt/anaconda3/lib/python3.8/site-packages (from requests==2.22.0->shioaji==0.3.1.dev8->-r ../requirements.txt (line 5)) (1.25.9)\n",
      "Requirement already satisfied: chardet<3.1.0,>=3.0.2 in /opt/anaconda3/lib/python3.8/site-packages (from requests==2.22.0->shioaji==0.3.1.dev8->-r ../requirements.txt (line 5)) (3.0.4)\n",
      "Requirement already satisfied: orjson==3.3.1 in /opt/anaconda3/lib/python3.8/site-packages (from pysolace==0.9.8->shioaji==0.3.1.dev8->-r ../requirements.txt (line 5)) (3.3.1)\n",
      "Requirement already satisfied: msgpack in /opt/anaconda3/lib/python3.8/site-packages (from pysolace==0.9.8->shioaji==0.3.1.dev8->-r ../requirements.txt (line 5)) (1.0.0)\n",
      "Requirement already satisfied: zipp>=0.5 in /opt/anaconda3/lib/python3.8/site-packages (from importlib-metadata==1.6.0->shioaji==0.3.1.dev8->-r ../requirements.txt (line 5)) (3.1.0)\n",
      "Requirement already satisfied: protobuf==3.11.2 in /opt/anaconda3/lib/python3.8/site-packages (from matrixprofile>=1.1.10<2.0.0->tsfresh==0.18.0->-r ../requirements.txt (line 11)) (3.11.2)\n",
      "Requirement already satisfied: sortedcontainers!=2.0.0,!=2.0.1 in /opt/anaconda3/lib/python3.8/site-packages (from distributed>=2.11.0->tsfresh==0.18.0->-r ../requirements.txt (line 11)) (2.2.2)\n",
      "Requirement already satisfied: zict>=0.1.3 in /opt/anaconda3/lib/python3.8/site-packages (from distributed>=2.11.0->tsfresh==0.18.0->-r ../requirements.txt (line 11)) (2.0.0)\n",
      "Requirement already satisfied: toolz>=0.8.2 in /opt/anaconda3/lib/python3.8/site-packages (from distributed>=2.11.0->tsfresh==0.18.0->-r ../requirements.txt (line 11)) (0.10.0)\n",
      "Requirement already satisfied: tblib>=1.6.0 in /opt/anaconda3/lib/python3.8/site-packages (from distributed>=2.11.0->tsfresh==0.18.0->-r ../requirements.txt (line 11)) (1.6.0)\n",
      "Requirement already satisfied: tornado>=6.0.3; python_version >= \"3.8\" in /opt/anaconda3/lib/python3.8/site-packages (from distributed>=2.11.0->tsfresh==0.18.0->-r ../requirements.txt (line 11)) (6.0.4)\n",
      "Requirement already satisfied: click>=6.6 in /opt/anaconda3/lib/python3.8/site-packages (from distributed>=2.11.0->tsfresh==0.18.0->-r ../requirements.txt (line 11)) (7.1.2)\n",
      "Requirement already satisfied: pyyaml in /opt/anaconda3/lib/python3.8/site-packages (from distributed>=2.11.0->tsfresh==0.18.0->-r ../requirements.txt (line 11)) (5.3.1)\n",
      "Requirement already satisfied: psutil>=5.0 in /opt/anaconda3/lib/python3.8/site-packages (from distributed>=2.11.0->tsfresh==0.18.0->-r ../requirements.txt (line 11)) (5.7.0)\n",
      "Requirement already satisfied: cloudpickle>=1.3.0 in /opt/anaconda3/lib/python3.8/site-packages (from distributed>=2.11.0->tsfresh==0.18.0->-r ../requirements.txt (line 11)) (1.5.0)\n",
      "Requirement already satisfied: fsspec>=0.6.0; extra == \"dataframe\" in /opt/anaconda3/lib/python3.8/site-packages (from dask[dataframe]>=2.9.0->tsfresh==0.18.0->-r ../requirements.txt (line 11)) (0.7.4)\n",
      "Requirement already satisfied: partd>=0.3.10; extra == \"dataframe\" in /opt/anaconda3/lib/python3.8/site-packages (from dask[dataframe]>=2.9.0->tsfresh==0.18.0->-r ../requirements.txt (line 11)) (1.1.0)\n",
      "Requirement already satisfied: numba>=0.48 in /opt/anaconda3/lib/python3.8/site-packages (from stumpy>=1.7.2->tsfresh==0.18.0->-r ../requirements.txt (line 11)) (0.50.1)\n",
      "Requirement already satisfied: heapdict in /opt/anaconda3/lib/python3.8/site-packages (from zict>=0.1.3->distributed>=2.11.0->tsfresh==0.18.0->-r ../requirements.txt (line 11)) (1.0.1)\n",
      "Requirement already satisfied: locket in /opt/anaconda3/lib/python3.8/site-packages (from partd>=0.3.10; extra == \"dataframe\"->dask[dataframe]>=2.9.0->tsfresh==0.18.0->-r ../requirements.txt (line 11)) (0.2.0)\n",
      "Requirement already satisfied: llvmlite<0.34,>=0.33.0.dev0 in /opt/anaconda3/lib/python3.8/site-packages (from numba>=0.48->stumpy>=1.7.2->tsfresh==0.18.0->-r ../requirements.txt (line 11)) (0.33.0+1.g022ab0f)\n",
      "\u001b[33mWARNING: You are using pip version 20.2.4; however, version 21.1.1 is available.\n",
      "You should consider upgrading via the '/opt/anaconda3/bin/python -m pip install --upgrade pip' command.\u001b[0m\n"
     ]
    }
   ],
   "source": [
    "!pip install -r ../requirements.txt\n",
    "\n",
    "import os\n",
    "import sys\n",
    "sys.path.insert(0, os.path.abspath('..'))"
   ]
  },
  {
   "cell_type": "markdown",
   "metadata": {},
   "source": [
    "# Ticker\n",
    "This is where you can download OHLCV data"
   ]
  },
  {
   "cell_type": "code",
   "execution_count": 11,
   "metadata": {},
   "outputs": [
    {
     "name": "stdout",
     "output_type": "stream",
     "text": [
      "                 Open       High        Low      Close     Volume  Dividends  \\\n",
      "Date                                                                           \n",
      "2021-02-17  23.500000  24.100000  23.500000  24.000000   36033014          0   \n",
      "2021-02-18  24.200001  24.549999  24.150000  24.400000   37216584          0   \n",
      "2021-02-19  24.500000  24.600000  24.299999  24.600000   33156371          0   \n",
      "2021-02-22  24.700001  24.900000  24.450001  24.450001   31129087          0   \n",
      "2021-02-23  24.799999  25.450001  24.799999  25.299999   75555774          0   \n",
      "2021-02-24  25.549999  25.700001  24.850000  25.049999   46210729          0   \n",
      "2021-02-25  25.250000  25.350000  25.049999  25.299999   36876719          0   \n",
      "2021-02-26  25.100000  25.200001  24.700001  24.750000   55847889          0   \n",
      "2021-03-02  25.000000  25.200001  24.600000  24.650000   26755119          0   \n",
      "2021-03-03  24.799999  25.100000  24.650000  25.049999   51406794          0   \n",
      "2021-03-04  25.100000  25.400000  24.850000  25.000000   56229767          0   \n",
      "2021-03-05  24.700001  25.100000  24.650000  24.950001   28926166          0   \n",
      "2021-03-08  25.000000  25.350000  25.000000  25.100000   36177021          0   \n",
      "2021-03-09  25.400000  25.900000  25.350000  25.700001   88397899          0   \n",
      "2021-03-10  25.900000  25.950001  25.549999  25.750000   48845004          0   \n",
      "2021-03-11  25.900000  25.900000  25.650000  25.799999   57574394          0   \n",
      "2021-03-12  25.900000  25.950001  25.750000  25.900000   32441714          0   \n",
      "2021-03-15  25.850000  25.900000  25.500000  25.650000   24279294          0   \n",
      "2021-03-16  25.650000  25.700001  25.400000  25.500000   30533167          0   \n",
      "2021-03-17  25.650000  25.700001  25.500000  25.650000   37702857          0   \n",
      "2021-03-18  25.750000  25.799999  25.450001  25.450001   26384457          0   \n",
      "2021-03-19  25.350000  25.400000  25.000000  25.100000   38943705          0   \n",
      "2021-03-22  25.100000  25.200001  24.900000  25.150000   26321332          0   \n",
      "2021-03-23  25.150000  25.299999  25.000000  25.100000   23189728          0   \n",
      "2021-03-24  25.100000  25.150000  24.900000  25.000000   18065878          0   \n",
      "2021-03-25  24.950001  25.250000  24.900000  25.000000   20551029          0   \n",
      "2021-03-26  25.000000  25.100000  24.950001  25.049999   19920489          0   \n",
      "2021-03-29  25.200001  25.600000  25.150000  25.549999   37499419          0   \n",
      "2021-03-30  25.600000  25.799999  25.450001  25.799999   40789176          0   \n",
      "2021-03-31  25.799999  25.950001  25.700001  25.900000   50641513          0   \n",
      "2021-04-01  26.000000  26.000000  25.750000  25.799999   46748061          0   \n",
      "2021-04-07  26.000000  27.150000  25.950001  26.900000  177185044          0   \n",
      "2021-04-08  27.299999  28.250000  27.299999  28.150000  202438859          0   \n",
      "2021-04-09  28.250000  28.400000  27.450001  27.950001  109735803          0   \n",
      "2021-04-12  28.799999  29.950001  28.750000  29.600000  162512651          0   \n",
      "2021-04-13  30.299999  31.000000  29.850000  30.200001  208941565          0   \n",
      "2021-04-14  31.299999  33.200001  31.250000  32.950001  481269899          0   \n",
      "2021-04-15  33.099998  33.599998  32.450001  33.000000  314425907          0   \n",
      "2021-04-16  33.849998  35.750000  33.700001  35.150002  350462436          0   \n",
      "2021-04-19  36.799999  38.650002  36.500000  38.650002  397439728          0   \n",
      "2021-04-20  38.799999  39.099998  36.650002  39.000000  430725920          0   \n",
      "2021-04-21  38.400002  39.299999  37.799999  38.500000  277462200          0   \n",
      "2021-04-22  39.400002  41.950001  37.849998  38.900002  540643466          0   \n",
      "2021-04-23  39.599998  40.000000  36.799999  38.099998  289801283          0   \n",
      "2021-04-26  38.500000  40.200001  38.299999  40.000000  276653381          0   \n",
      "2021-04-27  40.000000  40.150002  38.799999  39.099998  233652187          0   \n",
      "2021-04-28  38.650002  38.950001  38.000000  38.200001  187596806          0   \n",
      "2021-04-29  39.500000  40.150002  38.700001  39.299999  349886518          0   \n",
      "2021-05-03  40.000000  40.950001  38.500000  38.549999  363246750          0   \n",
      "2021-05-04  38.900002  39.349998  34.700001  36.250000  378140350          0   \n",
      "2021-05-05  37.150002  39.849998  36.799999  39.250000  421571710          0   \n",
      "2021-05-06  40.200001  42.000000  39.049999  41.000000  606050956          0   \n",
      "2021-05-07  41.950001  41.950001  39.549999  41.200001  290000389          0   \n",
      "2021-05-10  41.599998  45.000000  40.549999  45.000000  597483912          0   \n",
      "2021-05-11  43.700001  46.750000  42.599998  43.750000  591781767          0   \n",
      "\n",
      "            Stock Splits  \n",
      "Date                      \n",
      "2021-02-17             0  \n",
      "2021-02-18             0  \n",
      "2021-02-19             0  \n",
      "2021-02-22             0  \n",
      "2021-02-23             0  \n",
      "2021-02-24             0  \n",
      "2021-02-25             0  \n",
      "2021-02-26             0  \n",
      "2021-03-02             0  \n",
      "2021-03-03             0  \n",
      "2021-03-04             0  \n",
      "2021-03-05             0  \n",
      "2021-03-08             0  \n",
      "2021-03-09             0  \n",
      "2021-03-10             0  \n",
      "2021-03-11             0  \n",
      "2021-03-12             0  \n",
      "2021-03-15             0  \n",
      "2021-03-16             0  \n",
      "2021-03-17             0  \n",
      "2021-03-18             0  \n",
      "2021-03-19             0  \n",
      "2021-03-22             0  \n",
      "2021-03-23             0  \n",
      "2021-03-24             0  \n",
      "2021-03-25             0  \n",
      "2021-03-26             0  \n",
      "2021-03-29             0  \n",
      "2021-03-30             0  \n",
      "2021-03-31             0  \n",
      "2021-04-01             0  \n",
      "2021-04-07             0  \n",
      "2021-04-08             0  \n",
      "2021-04-09             0  \n",
      "2021-04-12             0  \n",
      "2021-04-13             0  \n",
      "2021-04-14             0  \n",
      "2021-04-15             0  \n",
      "2021-04-16             0  \n",
      "2021-04-19             0  \n",
      "2021-04-20             0  \n",
      "2021-04-21             0  \n",
      "2021-04-22             0  \n",
      "2021-04-23             0  \n",
      "2021-04-26             0  \n",
      "2021-04-27             0  \n",
      "2021-04-28             0  \n",
      "2021-04-29             0  \n",
      "2021-05-03             0  \n",
      "2021-05-04             0  \n",
      "2021-05-05             0  \n",
      "2021-05-06             0  \n",
      "2021-05-07             0  \n",
      "2021-05-10             0  \n",
      "2021-05-11             0  \n"
     ]
    }
   ],
   "source": [
    "from stockbot.ticker.yahoo import Market\n",
    "\n",
    "ticker = Market('2002.TW')\n",
    "df = ticker.history('3mo')\n",
    "print(df)"
   ]
  },
  {
   "cell_type": "markdown",
   "metadata": {},
   "source": [
    "# Forecasting Model"
   ]
  },
  {
   "cell_type": "code",
   "execution_count": 12,
   "metadata": {},
   "outputs": [
    {
     "name": "stderr",
     "output_type": "stream",
     "text": [
      "/opt/anaconda3/lib/python3.8/site-packages/autots/models/sklearn.py:429: VisibleDeprecationWarning: Creating an ndarray from ragged nested sequences (which is a list-or-tuple of lists-or-tuples-or ndarrays with different lengths or shapes) is deprecated. If you meant to do this, you must specify 'dtype=object' when creating the ndarray.\n",
      "  \"hidden_layer_sizes\": np.random.choice(\n",
      "/opt/anaconda3/lib/python3.8/site-packages/scipy/optimize/minpack.py:828: OptimizeWarning: Covariance of the parameters could not be estimated\n",
      "  warnings.warn('Covariance of the parameters could not be estimated',\n"
     ]
    },
    {
     "name": "stdout",
     "output_type": "stream",
     "text": [
      "Inferred frequency is: None\n",
      "Frequency is 'None'! Input frequency not recognized.\n",
      "Model Number: 1 with model AverageValueNaive in generation 0 of 5\n",
      "Model Number: 2 with model AverageValueNaive in generation 0 of 5\n",
      "Model Number: 3 with model AverageValueNaive in generation 0 of 5\n",
      "Model Number: 4 with model DatepartRegression in generation 0 of 5\n",
      "Model Number: 5 with model DatepartRegression in generation 0 of 5\n",
      "Model Number: 6 with model DatepartRegression in generation 0 of 5\n"
     ]
    },
    {
     "name": "stderr",
     "output_type": "stream",
     "text": [
      "/opt/anaconda3/lib/python3.8/site-packages/sklearn/neural_network/_multilayer_perceptron.py:500: ConvergenceWarning: lbfgs failed to converge (status=1):\n",
      "STOP: TOTAL NO. of ITERATIONS REACHED LIMIT.\n",
      "\n",
      "Increase the number of iterations (max_iter) or scale the data as shown in:\n",
      "    https://scikit-learn.org/stable/modules/preprocessing.html\n",
      "  self.n_iter_ = _check_optimize_result(\"lbfgs\", opt_res, self.max_iter)\n",
      "/opt/anaconda3/lib/python3.8/site-packages/sklearn/preprocessing/_data.py:3237: RuntimeWarning: divide by zero encountered in log\n",
      "  loglike = -n_samples / 2 * np.log(x_trans.var())\n"
     ]
    },
    {
     "name": "stdout",
     "output_type": "stream",
     "text": [
      "Model Number: 7 with model DatepartRegression in generation 0 of 5\n",
      "Template Eval Error: ImportError('Tensorflow not available, install with pip install tensorflow.') in model 7: DatepartRegression\n",
      "Model Number: 8 with model ETS in generation 0 of 5\n"
     ]
    },
    {
     "name": "stderr",
     "output_type": "stream",
     "text": [
      "/opt/anaconda3/lib/python3.8/site-packages/statsmodels/tsa/holtwinters.py:956: RuntimeWarning: divide by zero encountered in log\n",
      "  aic = self.nobs * np.log(sse / self.nobs) + k * 2\n",
      "/opt/anaconda3/lib/python3.8/site-packages/statsmodels/tsa/holtwinters.py:962: RuntimeWarning: divide by zero encountered in log\n",
      "  bic = self.nobs * np.log(sse / self.nobs) + k * np.log(self.nobs)\n",
      "/opt/anaconda3/lib/python3.8/site-packages/statsmodels/tsa/holtwinters.py:743: ConvergenceWarning: Optimization failed to converge. Check mle_retvals.\n",
      "  warn(\"Optimization failed to converge. Check mle_retvals.\",\n"
     ]
    },
    {
     "name": "stdout",
     "output_type": "stream",
     "text": [
      "Model Number: 9 with model ETS in generation 0 of 5\n",
      "Model Number: 10 with model GLM in generation 0 of 5\n",
      "Model Number: 11 with model GLM in generation 0 of 5\n",
      "Model Number: 12 with model GLS in generation 0 of 5\n",
      "Model Number: 13 with model GLS in generation 0 of 5\n",
      "Model Number: 14 with model GluonTS in generation 0 of 5\n",
      "Template Eval Error: ImportError('GluonTS installation not found or installed version is incompatible with AutoTS.') in model 14: GluonTS\n",
      "Model Number: 15 with model GluonTS in generation 0 of 5\n",
      "Template Eval Error: ImportError('GluonTS installation not found or installed version is incompatible with AutoTS.') in model 15: GluonTS\n",
      "Model Number: 16 with model GluonTS in generation 0 of 5\n",
      "Template Eval Error: ImportError('GluonTS installation not found or installed version is incompatible with AutoTS.') in model 16: GluonTS\n",
      "Model Number: 17 with model GluonTS in generation 0 of 5\n",
      "Template Eval Error: ImportError('GluonTS installation not found or installed version is incompatible with AutoTS.') in model 17: GluonTS\n",
      "Model Number: 18 with model GluonTS in generation 0 of 5\n",
      "Template Eval Error: ImportError('GluonTS installation not found or installed version is incompatible with AutoTS.') in model 18: GluonTS\n",
      "Model Number: 19 with model GluonTS in generation 0 of 5"
     ]
    },
    {
     "name": "stderr",
     "output_type": "stream",
     "text": [
      "/opt/anaconda3/lib/python3.8/site-packages/sklearn/preprocessing/_data.py:3237: RuntimeWarning: divide by zero encountered in log\n",
      "  loglike = -n_samples / 2 * np.log(x_trans.var())\n",
      "/opt/anaconda3/lib/python3.8/site-packages/sklearn/preprocessing/_data.py:3237: RuntimeWarning: divide by zero encountered in log\n",
      "  loglike = -n_samples / 2 * np.log(x_trans.var())\n",
      "/opt/anaconda3/lib/python3.8/site-packages/scipy/optimize/minpack.py:828: OptimizeWarning: Covariance of the parameters could not be estimated\n",
      "  warnings.warn('Covariance of the parameters could not be estimated',\n",
      "/opt/anaconda3/lib/python3.8/site-packages/sklearn/preprocessing/_data.py:3237: RuntimeWarning: divide by zero encountered in log\n",
      "  loglike = -n_samples / 2 * np.log(x_trans.var())\n",
      "/opt/anaconda3/lib/python3.8/site-packages/scipy/optimize/minpack.py:828: OptimizeWarning: Covariance of the parameters could not be estimated\n",
      "  warnings.warn('Covariance of the parameters could not be estimated',\n"
     ]
    },
    {
     "name": "stdout",
     "output_type": "stream",
     "text": [
      "\n",
      "Template Eval Error: ImportError('GluonTS installation not found or installed version is incompatible with AutoTS.') in model 19: GluonTS\n",
      "Model Number: 20 with model LastValueNaive in generation 0 of 5\n",
      "Model Number: 21 with model LastValueNaive in generation 0 of 5\n",
      "Model Number: 22 with model LastValueNaive in generation 0 of 5\n"
     ]
    },
    {
     "name": "stderr",
     "output_type": "stream",
     "text": [
      "/opt/anaconda3/lib/python3.8/site-packages/scipy/optimize/minpack.py:828: OptimizeWarning: Covariance of the parameters could not be estimated\n",
      "  warnings.warn('Covariance of the parameters could not be estimated',\n",
      "/opt/anaconda3/lib/python3.8/site-packages/scipy/optimize/minpack.py:828: OptimizeWarning: Covariance of the parameters could not be estimated\n",
      "  warnings.warn('Covariance of the parameters could not be estimated',\n",
      "/opt/anaconda3/lib/python3.8/site-packages/sklearn/preprocessing/_data.py:3237: RuntimeWarning: divide by zero encountered in log\n",
      "  loglike = -n_samples / 2 * np.log(x_trans.var())\n"
     ]
    },
    {
     "name": "stdout",
     "output_type": "stream",
     "text": [
      "Model Number: 23 with model LastValueNaive in generation 0 of 5\n",
      "Model Number: 24 with model SeasonalNaive in generation 0 of 5\n",
      "Model Number: 25 with model SeasonalNaive in generation 0 of 5\n",
      "Model Number: 26 with model SeasonalNaive in generation 0 of 5\n",
      "Model Number: 27 with model SeasonalNaive in generation 0 of 5\n",
      "Model Number: 28 with model UnobservedComponents in generation 0 of 5\n",
      "Model Number: 29 with model UnobservedComponents in generation 0 of 5\n",
      "Model Number: 30 with model UnobservedComponents in generation 0 of 5\n",
      "Model Number: 31 with model VAR in generation 0 of 5\n",
      "Template Eval Error: LinAlgError('6-th leading minor of the array is not positive definite') in model 31: VAR\n",
      "Model Number: 32 with model VAR in generation 0 of 5\n",
      "Template Eval Error: LinAlgError('6-th leading minor of the array is not positive definite') in model 32: VAR\n",
      "Model Number: 33 with model VAR in generation 0 of 5\n",
      "Template Eval Error: LinAlgError('6-th leading minor of the array is not positive definite') in model 33: VAR\n",
      "Model Number: 34 with model VECM in generation 0 of 5\n",
      "Template Eval Error: LinAlgError('Singular matrix') in model 34: VECM\n",
      "Model Number: 35 with model VECM in generation 0 of 5\n",
      "Template Eval Error: LinAlgError('Singular matrix') in model 35: VECM\n",
      "Model Number: 36 with model VECM in generation 0 of 5\n",
      "Template Eval Error: LinAlgError('Singular matrix') in model 36: VECM\n",
      "Model Number: 37 with model VECM in generation 0 of 5\n",
      "Template Eval Error: LinAlgError('Singular matrix') in model 37: VECM\n",
      "Model Number: 38 with model WindowRegression in generation 0 of 5\n"
     ]
    },
    {
     "name": "stderr",
     "output_type": "stream",
     "text": [
      "/opt/anaconda3/lib/python3.8/site-packages/sklearn/preprocessing/_data.py:3237: RuntimeWarning: divide by zero encountered in log\n",
      "  loglike = -n_samples / 2 * np.log(x_trans.var())\n",
      "/opt/anaconda3/lib/python3.8/site-packages/sklearn/neural_network/_multilayer_perceptron.py:500: ConvergenceWarning: lbfgs failed to converge (status=1):\n",
      "STOP: TOTAL NO. of ITERATIONS REACHED LIMIT.\n",
      "\n",
      "Increase the number of iterations (max_iter) or scale the data as shown in:\n",
      "    https://scikit-learn.org/stable/modules/preprocessing.html\n",
      "  self.n_iter_ = _check_optimize_result(\"lbfgs\", opt_res, self.max_iter)\n",
      "/opt/anaconda3/lib/python3.8/site-packages/sklearn/preprocessing/_data.py:3237: RuntimeWarning: divide by zero encountered in log\n",
      "  loglike = -n_samples / 2 * np.log(x_trans.var())\n",
      "/opt/anaconda3/lib/python3.8/site-packages/sklearn/preprocessing/_data.py:3179: RuntimeWarning: divide by zero encountered in power\n",
      "  x_inv[pos] = np.power(x[pos] * lmbda + 1, 1 / lmbda) - 1\n",
      "/opt/anaconda3/lib/python3.8/site-packages/sklearn/preprocessing/_data.py:3179: RuntimeWarning: divide by zero encountered in power\n",
      "  x_inv[pos] = np.power(x[pos] * lmbda + 1, 1 / lmbda) - 1\n",
      "/opt/anaconda3/lib/python3.8/site-packages/sklearn/preprocessing/_data.py:3179: RuntimeWarning: divide by zero encountered in power\n",
      "  x_inv[pos] = np.power(x[pos] * lmbda + 1, 1 / lmbda) - 1\n"
     ]
    },
    {
     "name": "stdout",
     "output_type": "stream",
     "text": [
      "Model Number: 39 with model ZeroesNaive in generation 0 of 5\n",
      "Model Number: 40 with model FBProphet in generation 0 of 5\n",
      "Template Eval Error: ImportError('Package fbprophet is required') in model 40: FBProphet\n",
      "Model Number: 41 with model LastValueNaive in generation 0 of 5\n",
      "Model Number: 42 with model SeasonalNaive in generation 0 of 5\n",
      "Model Number: 43 with model GLS in generation 0 of 5\n",
      "Model Number: 44 with model GLM in generation 0 of 5\n",
      "Model Number: 45 with model AverageValueNaive in generation 0 of 5\n",
      "Model Number: 46 with model LastValueNaive in generation 0 of 5\n",
      "Model Number: 47 with model FBProphet in generation 0 of 5\n",
      "Template Eval Error: ImportError('Package fbprophet is required') in model 47: FBProphet\n",
      "Model Number: 48 with model WindowRegression in generation 0 of 5\n"
     ]
    },
    {
     "name": "stderr",
     "output_type": "stream",
     "text": [
      "/opt/anaconda3/lib/python3.8/site-packages/sklearn/preprocessing/_data.py:3237: RuntimeWarning: divide by zero encountered in log\n",
      "  loglike = -n_samples / 2 * np.log(x_trans.var())\n",
      "/opt/anaconda3/lib/python3.8/site-packages/sklearn/preprocessing/_data.py:3179: RuntimeWarning: divide by zero encountered in power\n",
      "  x_inv[pos] = np.power(x[pos] * lmbda + 1, 1 / lmbda) - 1\n",
      "/opt/anaconda3/lib/python3.8/site-packages/sklearn/preprocessing/_data.py:3179: RuntimeWarning: divide by zero encountered in power\n",
      "  x_inv[pos] = np.power(x[pos] * lmbda + 1, 1 / lmbda) - 1\n",
      "/opt/anaconda3/lib/python3.8/site-packages/sklearn/preprocessing/_data.py:3179: RuntimeWarning: divide by zero encountered in power\n",
      "  x_inv[pos] = np.power(x[pos] * lmbda + 1, 1 / lmbda) - 1\n",
      "/opt/anaconda3/lib/python3.8/site-packages/sklearn/preprocessing/_data.py:3237: RuntimeWarning: divide by zero encountered in log\n",
      "  loglike = -n_samples / 2 * np.log(x_trans.var())\n"
     ]
    },
    {
     "name": "stdout",
     "output_type": "stream",
     "text": [
      "Model Number: 49 with model GLM in generation 0 of 5\n",
      "Template Eval Error: ValueError('The first guess on the deviance function returned a nan.  This could be a boundary  problem and should be reported.') in model 49: GLM\n",
      "Model Number: 50 with model WindowRegression in generation 0 of 5\n",
      "Template Eval Error: ImportError('Tensorflow not available, install with pip install tensorflow.') in model 50: WindowRegression\n",
      "Model Number: 51 with model UnobservedComponents in generation 0 of 5\n",
      "Model Number: 52 with model WindowRegression in generation 0 of 5\n"
     ]
    },
    {
     "name": "stderr",
     "output_type": "stream",
     "text": [
      "/opt/anaconda3/lib/python3.8/site-packages/statsmodels/genmod/families/family.py:179: RuntimeWarning: invalid value encountered in true_divide\n",
      "  return np.sum(resid_dev * freq_weights * var_weights / scale)\n"
     ]
    },
    {
     "name": "stdout",
     "output_type": "stream",
     "text": [
      "[LibLinear][LibLinear][LibLinear][LibLinear][LibLinear][LibLinear][LibLinear][LibLinear][LibLinear][LibLinear][LibLinear][LibLinear][LibLinear][LibLinear][LibLinear][LibLinear]"
     ]
    },
    {
     "name": "stderr",
     "output_type": "stream",
     "text": [
      "/opt/anaconda3/lib/python3.8/site-packages/sklearn/svm/_base.py:985: ConvergenceWarning: Liblinear failed to converge, increase the number of iterations.\n",
      "  warnings.warn(\"Liblinear failed to converge, increase \"\n",
      "/opt/anaconda3/lib/python3.8/site-packages/sklearn/svm/_base.py:985: ConvergenceWarning: Liblinear failed to converge, increase the number of iterations.\n",
      "  warnings.warn(\"Liblinear failed to converge, increase \"\n",
      "/opt/anaconda3/lib/python3.8/site-packages/sklearn/svm/_base.py:985: ConvergenceWarning: Liblinear failed to converge, increase the number of iterations.\n",
      "  warnings.warn(\"Liblinear failed to converge, increase \"\n",
      "/opt/anaconda3/lib/python3.8/site-packages/sklearn/svm/_base.py:985: ConvergenceWarning: Liblinear failed to converge, increase the number of iterations.\n",
      "  warnings.warn(\"Liblinear failed to converge, increase \"\n",
      "/opt/anaconda3/lib/python3.8/site-packages/sklearn/svm/_base.py:985: ConvergenceWarning: Liblinear failed to converge, increase the number of iterations.\n",
      "  warnings.warn(\"Liblinear failed to converge, increase \"\n",
      "/opt/anaconda3/lib/python3.8/site-packages/sklearn/svm/_base.py:985: ConvergenceWarning: Liblinear failed to converge, increase the number of iterations.\n",
      "  warnings.warn(\"Liblinear failed to converge, increase \"\n",
      "/opt/anaconda3/lib/python3.8/site-packages/sklearn/svm/_base.py:985: ConvergenceWarning: Liblinear failed to converge, increase the number of iterations.\n",
      "  warnings.warn(\"Liblinear failed to converge, increase \"\n",
      "/opt/anaconda3/lib/python3.8/site-packages/sklearn/svm/_base.py:985: ConvergenceWarning: Liblinear failed to converge, increase the number of iterations.\n",
      "  warnings.warn(\"Liblinear failed to converge, increase \"\n",
      "/opt/anaconda3/lib/python3.8/site-packages/sklearn/svm/_base.py:985: ConvergenceWarning: Liblinear failed to converge, increase the number of iterations.\n",
      "  warnings.warn(\"Liblinear failed to converge, increase \"\n",
      "/opt/anaconda3/lib/python3.8/site-packages/sklearn/svm/_base.py:985: ConvergenceWarning: Liblinear failed to converge, increase the number of iterations.\n",
      "  warnings.warn(\"Liblinear failed to converge, increase \"\n",
      "/opt/anaconda3/lib/python3.8/site-packages/sklearn/svm/_base.py:985: ConvergenceWarning: Liblinear failed to converge, increase the number of iterations.\n",
      "  warnings.warn(\"Liblinear failed to converge, increase \"\n",
      "/opt/anaconda3/lib/python3.8/site-packages/sklearn/svm/_base.py:985: ConvergenceWarning: Liblinear failed to converge, increase the number of iterations.\n",
      "  warnings.warn(\"Liblinear failed to converge, increase \"\n"
     ]
    },
    {
     "name": "stdout",
     "output_type": "stream",
     "text": [
      "[LibLinear][LibLinear][LibLinear][LibLinear][LibLinear][LibLinear][LibLinear][LibLinear][LibLinear][LibLinear][LibLinear][LibLinear][LibLinear]"
     ]
    },
    {
     "name": "stderr",
     "output_type": "stream",
     "text": [
      "/opt/anaconda3/lib/python3.8/site-packages/sklearn/svm/_base.py:985: ConvergenceWarning: Liblinear failed to converge, increase the number of iterations.\n",
      "  warnings.warn(\"Liblinear failed to converge, increase \"\n",
      "/opt/anaconda3/lib/python3.8/site-packages/sklearn/svm/_base.py:985: ConvergenceWarning: Liblinear failed to converge, increase the number of iterations.\n",
      "  warnings.warn(\"Liblinear failed to converge, increase \"\n",
      "/opt/anaconda3/lib/python3.8/site-packages/sklearn/svm/_base.py:985: ConvergenceWarning: Liblinear failed to converge, increase the number of iterations.\n",
      "  warnings.warn(\"Liblinear failed to converge, increase \"\n",
      "/opt/anaconda3/lib/python3.8/site-packages/sklearn/svm/_base.py:985: ConvergenceWarning: Liblinear failed to converge, increase the number of iterations.\n",
      "  warnings.warn(\"Liblinear failed to converge, increase \"\n",
      "/opt/anaconda3/lib/python3.8/site-packages/sklearn/svm/_base.py:985: ConvergenceWarning: Liblinear failed to converge, increase the number of iterations.\n",
      "  warnings.warn(\"Liblinear failed to converge, increase \"\n",
      "/opt/anaconda3/lib/python3.8/site-packages/sklearn/svm/_base.py:985: ConvergenceWarning: Liblinear failed to converge, increase the number of iterations.\n",
      "  warnings.warn(\"Liblinear failed to converge, increase \"\n",
      "/opt/anaconda3/lib/python3.8/site-packages/sklearn/svm/_base.py:985: ConvergenceWarning: Liblinear failed to converge, increase the number of iterations.\n",
      "  warnings.warn(\"Liblinear failed to converge, increase \"\n",
      "/opt/anaconda3/lib/python3.8/site-packages/sklearn/svm/_base.py:985: ConvergenceWarning: Liblinear failed to converge, increase the number of iterations.\n",
      "  warnings.warn(\"Liblinear failed to converge, increase \"\n"
     ]
    },
    {
     "name": "stdout",
     "output_type": "stream",
     "text": [
      "[LibLinear][LibLinear][LibLinear][LibLinear][LibLinear][LibLinear][LibLinear][LibLinear][LibLinear][LibLinear][LibLinear][LibLinear][LibLinear][LibLinear]"
     ]
    },
    {
     "name": "stderr",
     "output_type": "stream",
     "text": [
      "/opt/anaconda3/lib/python3.8/site-packages/sklearn/svm/_base.py:985: ConvergenceWarning: Liblinear failed to converge, increase the number of iterations.\n",
      "  warnings.warn(\"Liblinear failed to converge, increase \"\n",
      "/opt/anaconda3/lib/python3.8/site-packages/sklearn/svm/_base.py:985: ConvergenceWarning: Liblinear failed to converge, increase the number of iterations.\n",
      "  warnings.warn(\"Liblinear failed to converge, increase \"\n",
      "/opt/anaconda3/lib/python3.8/site-packages/sklearn/svm/_base.py:985: ConvergenceWarning: Liblinear failed to converge, increase the number of iterations.\n",
      "  warnings.warn(\"Liblinear failed to converge, increase \"\n",
      "/opt/anaconda3/lib/python3.8/site-packages/sklearn/svm/_base.py:985: ConvergenceWarning: Liblinear failed to converge, increase the number of iterations.\n",
      "  warnings.warn(\"Liblinear failed to converge, increase \"\n",
      "/opt/anaconda3/lib/python3.8/site-packages/sklearn/svm/_base.py:985: ConvergenceWarning: Liblinear failed to converge, increase the number of iterations.\n",
      "  warnings.warn(\"Liblinear failed to converge, increase \"\n",
      "/opt/anaconda3/lib/python3.8/site-packages/sklearn/svm/_base.py:985: ConvergenceWarning: Liblinear failed to converge, increase the number of iterations.\n",
      "  warnings.warn(\"Liblinear failed to converge, increase \"\n"
     ]
    },
    {
     "name": "stdout",
     "output_type": "stream",
     "text": [
      "[LibLinear][LibLinear][LibLinear][LibLinear][LibLinear][LibLinear][LibLinear][LibLinear][LibLinear][LibLinear][LibLinear][LibLinear][LibLinear][LibLinear][LibLinear][LibLinear][LibLinear][LibLinear]"
     ]
    },
    {
     "name": "stderr",
     "output_type": "stream",
     "text": [
      "/opt/anaconda3/lib/python3.8/site-packages/sklearn/svm/_base.py:985: ConvergenceWarning: Liblinear failed to converge, increase the number of iterations.\n",
      "  warnings.warn(\"Liblinear failed to converge, increase \"\n",
      "/opt/anaconda3/lib/python3.8/site-packages/sklearn/svm/_base.py:985: ConvergenceWarning: Liblinear failed to converge, increase the number of iterations.\n",
      "  warnings.warn(\"Liblinear failed to converge, increase \"\n",
      "/opt/anaconda3/lib/python3.8/site-packages/sklearn/svm/_base.py:985: ConvergenceWarning: Liblinear failed to converge, increase the number of iterations.\n",
      "  warnings.warn(\"Liblinear failed to converge, increase \"\n",
      "/opt/anaconda3/lib/python3.8/site-packages/sklearn/svm/_base.py:985: ConvergenceWarning: Liblinear failed to converge, increase the number of iterations.\n",
      "  warnings.warn(\"Liblinear failed to converge, increase \"\n",
      "/opt/anaconda3/lib/python3.8/site-packages/sklearn/svm/_base.py:985: ConvergenceWarning: Liblinear failed to converge, increase the number of iterations.\n",
      "  warnings.warn(\"Liblinear failed to converge, increase \"\n",
      "/opt/anaconda3/lib/python3.8/site-packages/sklearn/svm/_base.py:985: ConvergenceWarning: Liblinear failed to converge, increase the number of iterations.\n",
      "  warnings.warn(\"Liblinear failed to converge, increase \"\n",
      "/opt/anaconda3/lib/python3.8/site-packages/sklearn/svm/_base.py:985: ConvergenceWarning: Liblinear failed to converge, increase the number of iterations.\n",
      "  warnings.warn(\"Liblinear failed to converge, increase \"\n",
      "/opt/anaconda3/lib/python3.8/site-packages/sklearn/svm/_base.py:985: ConvergenceWarning: Liblinear failed to converge, increase the number of iterations.\n",
      "  warnings.warn(\"Liblinear failed to converge, increase \"\n",
      "/opt/anaconda3/lib/python3.8/site-packages/sklearn/svm/_base.py:985: ConvergenceWarning: Liblinear failed to converge, increase the number of iterations.\n",
      "  warnings.warn(\"Liblinear failed to converge, increase \"\n",
      "/opt/anaconda3/lib/python3.8/site-packages/sklearn/svm/_base.py:985: ConvergenceWarning: Liblinear failed to converge, increase the number of iterations.\n",
      "  warnings.warn(\"Liblinear failed to converge, increase \"\n",
      "/opt/anaconda3/lib/python3.8/site-packages/sklearn/svm/_base.py:985: ConvergenceWarning: Liblinear failed to converge, increase the number of iterations.\n",
      "  warnings.warn(\"Liblinear failed to converge, increase \"\n",
      "/opt/anaconda3/lib/python3.8/site-packages/sklearn/svm/_base.py:985: ConvergenceWarning: Liblinear failed to converge, increase the number of iterations.\n",
      "  warnings.warn(\"Liblinear failed to converge, increase \"\n"
     ]
    },
    {
     "name": "stdout",
     "output_type": "stream",
     "text": [
      "[LibLinear][LibLinear][LibLinear][LibLinear][LibLinear][LibLinear][LibLinear][LibLinear][LibLinear][LibLinear][LibLinear][LibLinear][LibLinear][LibLinear]"
     ]
    },
    {
     "name": "stderr",
     "output_type": "stream",
     "text": [
      "/opt/anaconda3/lib/python3.8/site-packages/sklearn/svm/_base.py:985: ConvergenceWarning: Liblinear failed to converge, increase the number of iterations.\n",
      "  warnings.warn(\"Liblinear failed to converge, increase \"\n",
      "/opt/anaconda3/lib/python3.8/site-packages/sklearn/svm/_base.py:985: ConvergenceWarning: Liblinear failed to converge, increase the number of iterations.\n",
      "  warnings.warn(\"Liblinear failed to converge, increase \"\n",
      "/opt/anaconda3/lib/python3.8/site-packages/sklearn/svm/_base.py:985: ConvergenceWarning: Liblinear failed to converge, increase the number of iterations.\n",
      "  warnings.warn(\"Liblinear failed to converge, increase \"\n",
      "/opt/anaconda3/lib/python3.8/site-packages/sklearn/svm/_base.py:985: ConvergenceWarning: Liblinear failed to converge, increase the number of iterations.\n",
      "  warnings.warn(\"Liblinear failed to converge, increase \"\n",
      "/opt/anaconda3/lib/python3.8/site-packages/sklearn/svm/_base.py:985: ConvergenceWarning: Liblinear failed to converge, increase the number of iterations.\n",
      "  warnings.warn(\"Liblinear failed to converge, increase \"\n",
      "/opt/anaconda3/lib/python3.8/site-packages/sklearn/svm/_base.py:985: ConvergenceWarning: Liblinear failed to converge, increase the number of iterations.\n",
      "  warnings.warn(\"Liblinear failed to converge, increase \"\n"
     ]
    },
    {
     "name": "stdout",
     "output_type": "stream",
     "text": [
      "[LibLinear][LibLinear][LibLinear][LibLinear][LibLinear][LibLinear][LibLinear][LibLinear][LibLinear][LibLinear][LibLinear][LibLinear][LibLinear][LibLinear][LibLinear]"
     ]
    },
    {
     "name": "stderr",
     "output_type": "stream",
     "text": [
      "/opt/anaconda3/lib/python3.8/site-packages/sklearn/svm/_base.py:985: ConvergenceWarning: Liblinear failed to converge, increase the number of iterations.\n",
      "  warnings.warn(\"Liblinear failed to converge, increase \"\n",
      "/opt/anaconda3/lib/python3.8/site-packages/sklearn/svm/_base.py:985: ConvergenceWarning: Liblinear failed to converge, increase the number of iterations.\n",
      "  warnings.warn(\"Liblinear failed to converge, increase \"\n",
      "/opt/anaconda3/lib/python3.8/site-packages/sklearn/svm/_base.py:985: ConvergenceWarning: Liblinear failed to converge, increase the number of iterations.\n",
      "  warnings.warn(\"Liblinear failed to converge, increase \"\n",
      "/opt/anaconda3/lib/python3.8/site-packages/sklearn/svm/_base.py:985: ConvergenceWarning: Liblinear failed to converge, increase the number of iterations.\n",
      "  warnings.warn(\"Liblinear failed to converge, increase \"\n",
      "/opt/anaconda3/lib/python3.8/site-packages/sklearn/svm/_base.py:985: ConvergenceWarning: Liblinear failed to converge, increase the number of iterations.\n",
      "  warnings.warn(\"Liblinear failed to converge, increase \"\n",
      "/opt/anaconda3/lib/python3.8/site-packages/sklearn/svm/_base.py:985: ConvergenceWarning: Liblinear failed to converge, increase the number of iterations.\n",
      "  warnings.warn(\"Liblinear failed to converge, increase \"\n"
     ]
    },
    {
     "name": "stdout",
     "output_type": "stream",
     "text": [
      "[LibLinear][LibLinear][LibLinear][LibLinear][LibLinear][LibLinear][LibLinear][LibLinear][LibLinear][LibLinear][LibLinear][LibLinear][LibLinear][LibLinear][LibLinear][LibLinear][LibLinear]"
     ]
    },
    {
     "name": "stderr",
     "output_type": "stream",
     "text": [
      "/opt/anaconda3/lib/python3.8/site-packages/sklearn/svm/_base.py:985: ConvergenceWarning: Liblinear failed to converge, increase the number of iterations.\n",
      "  warnings.warn(\"Liblinear failed to converge, increase \"\n",
      "/opt/anaconda3/lib/python3.8/site-packages/sklearn/svm/_base.py:985: ConvergenceWarning: Liblinear failed to converge, increase the number of iterations.\n",
      "  warnings.warn(\"Liblinear failed to converge, increase \"\n",
      "/opt/anaconda3/lib/python3.8/site-packages/sklearn/svm/_base.py:985: ConvergenceWarning: Liblinear failed to converge, increase the number of iterations.\n",
      "  warnings.warn(\"Liblinear failed to converge, increase \"\n",
      "/opt/anaconda3/lib/python3.8/site-packages/sklearn/svm/_base.py:985: ConvergenceWarning: Liblinear failed to converge, increase the number of iterations.\n",
      "  warnings.warn(\"Liblinear failed to converge, increase \"\n",
      "/opt/anaconda3/lib/python3.8/site-packages/sklearn/svm/_base.py:985: ConvergenceWarning: Liblinear failed to converge, increase the number of iterations.\n",
      "  warnings.warn(\"Liblinear failed to converge, increase \"\n",
      "/opt/anaconda3/lib/python3.8/site-packages/sklearn/svm/_base.py:985: ConvergenceWarning: Liblinear failed to converge, increase the number of iterations.\n",
      "  warnings.warn(\"Liblinear failed to converge, increase \"\n",
      "/opt/anaconda3/lib/python3.8/site-packages/sklearn/svm/_base.py:985: ConvergenceWarning: Liblinear failed to converge, increase the number of iterations.\n",
      "  warnings.warn(\"Liblinear failed to converge, increase \"\n",
      "/opt/anaconda3/lib/python3.8/site-packages/sklearn/svm/_base.py:985: ConvergenceWarning: Liblinear failed to converge, increase the number of iterations.\n",
      "  warnings.warn(\"Liblinear failed to converge, increase \"\n",
      "/opt/anaconda3/lib/python3.8/site-packages/sklearn/svm/_base.py:985: ConvergenceWarning: Liblinear failed to converge, increase the number of iterations.\n",
      "  warnings.warn(\"Liblinear failed to converge, increase \"\n",
      "/opt/anaconda3/lib/python3.8/site-packages/sklearn/svm/_base.py:985: ConvergenceWarning: Liblinear failed to converge, increase the number of iterations.\n",
      "  warnings.warn(\"Liblinear failed to converge, increase \"\n"
     ]
    },
    {
     "name": "stdout",
     "output_type": "stream",
     "text": [
      "[LibLinear][LibLinear][LibLinear][LibLinear][LibLinear][LibLinear][LibLinear][LibLinear][LibLinear][LibLinear][LibLinear][LibLinear][LibLinear][LibLinear][LibLinear][LibLinear][LibLinear][LibLinear][LibLinear][LibLinear][LibLinear][LibLinear][LibLinear][LibLinear][LibLinear][LibLinear][LibLinear][LibLinear][LibLinear][LibLinear][LibLinear][LibLinear][LibLinear][LibLinear]"
     ]
    },
    {
     "name": "stderr",
     "output_type": "stream",
     "text": [
      "/opt/anaconda3/lib/python3.8/site-packages/sklearn/svm/_base.py:985: ConvergenceWarning: Liblinear failed to converge, increase the number of iterations.\n",
      "  warnings.warn(\"Liblinear failed to converge, increase \"\n",
      "/opt/anaconda3/lib/python3.8/site-packages/sklearn/svm/_base.py:985: ConvergenceWarning: Liblinear failed to converge, increase the number of iterations.\n",
      "  warnings.warn(\"Liblinear failed to converge, increase \"\n",
      "/opt/anaconda3/lib/python3.8/site-packages/sklearn/svm/_base.py:985: ConvergenceWarning: Liblinear failed to converge, increase the number of iterations.\n",
      "  warnings.warn(\"Liblinear failed to converge, increase \"\n"
     ]
    },
    {
     "name": "stdout",
     "output_type": "stream",
     "text": [
      "[LibLinear][LibLinear][LibLinear][LibLinear][LibLinear][LibLinear][LibLinear][LibLinear][LibLinear]Model Number: 53 with model VECM in generation 0 of 5\n",
      "Template Eval Error: LinAlgError('Singular matrix') in model 53: VECM\n",
      "Model Number: 54 with model FBProphet in generation 0 of 5\n",
      "Template Eval Error: ImportError('Package fbprophet is required') in model 54: FBProphet\n",
      "Model Number: 55 with model VECM in generation 0 of 5\n",
      "Template Eval Error: LinAlgError('Singular matrix') in model 55: VECM\n",
      "Model Number: 56 with model UnobservedComponents in generation 0 of 5\n",
      "Model Number: 57 with model GLS in generation 0 of 5\n",
      "Model Number: 58 with model GluonTS in generation 0 of 5\n",
      "Template Eval Error: ImportError('GluonTS installation not found or installed version is incompatible with AutoTS.') in model 58: GluonTS\n",
      "Model Number: 59 with model VECM in generation 0 of 5\n",
      "Template Eval Error: LinAlgError('Singular matrix') in model 59: VECM\n",
      "Model Number: 60 with model FBProphet in generation 0 of 5\n",
      "Template Eval Error: ImportError('Package fbprophet is required') in model 60: FBProphet\n",
      "Model Number: 61 with model FBProphet in generation 0 of 5\n",
      "Template Eval Error: ImportError('Package fbprophet is required') in model 61: FBProphet\n",
      "Model Number: 62 with model FBProphet in generation 0 of 5\n",
      "Template Eval Error: ImportError('Package fbprophet is required') in model 62: FBProphet\n",
      "Model Number: 63 with model ETS in generation 0 of 5\n",
      "Model Number: 64 with model GluonTS in generation 0 of 5\n",
      "Template Eval Error: ImportError('GluonTS installation not found or installed version is incompatible with AutoTS.') in model 64: GluonTS\n",
      "Model Number: 65 with model SeasonalNaive in generation 0 of 5\n"
     ]
    },
    {
     "name": "stderr",
     "output_type": "stream",
     "text": [
      "/opt/anaconda3/lib/python3.8/site-packages/sklearn/preprocessing/_data.py:3237: RuntimeWarning: divide by zero encountered in log\n",
      "  loglike = -n_samples / 2 * np.log(x_trans.var())\n",
      "/opt/anaconda3/lib/python3.8/site-packages/statsmodels/tsa/holtwinters.py:956: RuntimeWarning: divide by zero encountered in log\n",
      "  aic = self.nobs * np.log(sse / self.nobs) + k * 2\n",
      "/opt/anaconda3/lib/python3.8/site-packages/statsmodels/tsa/holtwinters.py:962: RuntimeWarning: divide by zero encountered in log\n",
      "  bic = self.nobs * np.log(sse / self.nobs) + k * np.log(self.nobs)\n",
      "/opt/anaconda3/lib/python3.8/site-packages/statsmodels/genmod/families/links.py:517: RuntimeWarning: overflow encountered in exp\n",
      "  return np.exp(z)\n",
      "/opt/anaconda3/lib/python3.8/site-packages/statsmodels/genmod/families/family.py:134: RuntimeWarning: invalid value encountered in multiply\n",
      "  return 1. / (self.link.deriv(mu)**2 * self.variance(mu))\n",
      "/opt/anaconda3/lib/python3.8/site-packages/statsmodels/genmod/generalized_linear_model.py:1161: RuntimeWarning: invalid value encountered in multiply\n",
      "  wlsendog = (lin_pred + self.family.link.deriv(mu) * (self.endog-mu)\n"
     ]
    },
    {
     "name": "stdout",
     "output_type": "stream",
     "text": [
      "Model Number: 66 with model ZeroesNaive in generation 0 of 5\n",
      "Model Number: 67 with model GLM in generation 0 of 5\n",
      "Template Eval Error: ValueError('NaN, inf or invalid value detected in weights, estimation infeasible.') in model 67: GLM\n",
      "Model Number: 68 with model LastValueNaive in generation 0 of 5\n",
      "Model Number: 69 with model GLM in generation 0 of 5\n",
      "Template Eval Error: ValueError('The first guess on the deviance function returned a nan.  This could be a boundary  problem and should be reported.') in model 69: GLM\n",
      "Model Number: 70 with model GLS in generation 0 of 5\n",
      "Model Number: 71 with model GLS in generation 0 of 5\n",
      "Model Number: 72 with model VECM in generation 0 of 5\n",
      "Template Eval Error: LinAlgError('Singular matrix') in model 72: VECM\n",
      "Model Number: 73 with model ETS in generation 0 of 5"
     ]
    },
    {
     "name": "stderr",
     "output_type": "stream",
     "text": [
      "/opt/anaconda3/lib/python3.8/site-packages/statsmodels/genmod/generalized_linear_model.py:274: DomainWarning: The inverse_power link function does not respect the domain of the Gamma family.\n",
      "  warnings.warn((\"The %s link function does not respect the domain \"\n",
      "/opt/anaconda3/lib/python3.8/site-packages/statsmodels/genmod/generalized_linear_model.py:274: DomainWarning: The inverse_power link function does not respect the domain of the Gamma family.\n",
      "  warnings.warn((\"The %s link function does not respect the domain \"\n",
      "/opt/anaconda3/lib/python3.8/site-packages/statsmodels/genmod/generalized_linear_model.py:274: DomainWarning: The inverse_power link function does not respect the domain of the Gamma family.\n",
      "  warnings.warn((\"The %s link function does not respect the domain \"\n",
      "/opt/anaconda3/lib/python3.8/site-packages/statsmodels/genmod/generalized_linear_model.py:274: DomainWarning: The inverse_power link function does not respect the domain of the Gamma family.\n",
      "  warnings.warn((\"The %s link function does not respect the domain \"\n",
      "/opt/anaconda3/lib/python3.8/site-packages/statsmodels/genmod/generalized_linear_model.py:274: DomainWarning: The inverse_power link function does not respect the domain of the Gamma family.\n",
      "  warnings.warn((\"The %s link function does not respect the domain \"\n",
      "/opt/anaconda3/lib/python3.8/site-packages/statsmodels/genmod/generalized_linear_model.py:274: DomainWarning: The inverse_power link function does not respect the domain of the Gamma family.\n",
      "  warnings.warn((\"The %s link function does not respect the domain \"\n",
      "/opt/anaconda3/lib/python3.8/site-packages/statsmodels/genmod/families/family.py:179: RuntimeWarning: invalid value encountered in true_divide\n",
      "  return np.sum(resid_dev * freq_weights * var_weights / scale)\n",
      "/opt/anaconda3/lib/python3.8/site-packages/statsmodels/tsa/holtwinters.py:743: ConvergenceWarning: Optimization failed to converge. Check mle_retvals.\n",
      "  warn(\"Optimization failed to converge. Check mle_retvals.\",\n"
     ]
    },
    {
     "name": "stdout",
     "output_type": "stream",
     "text": [
      "\n",
      "Model Number: 74 with model GLM in generation 0 of 5\n"
     ]
    },
    {
     "name": "stderr",
     "output_type": "stream",
     "text": [
      "/opt/anaconda3/lib/python3.8/site-packages/statsmodels/genmod/families/family.py:1226: RuntimeWarning: divide by zero encountered in true_divide\n",
      "  endog_mu = self._clean(endog / mu)\n",
      "/opt/anaconda3/lib/python3.8/site-packages/statsmodels/genmod/families/family.py:1230: RuntimeWarning: invalid value encountered in log\n",
      "  resid_dev -= endog_alpha * np.log(endog_alpha / mu_alpha)\n"
     ]
    },
    {
     "name": "stdout",
     "output_type": "stream",
     "text": [
      "Model Number: 75 with model AverageValueNaive in generation 0 of 5\n",
      "Model Number: 76 with model RollingRegression in generation 0 of 5\n",
      "Model Number: 77 with model LastValueNaive in generation 0 of 5\n",
      "Model Number: 78 with model GLM in generation 0 of 5\n"
     ]
    },
    {
     "name": "stderr",
     "output_type": "stream",
     "text": [
      "/opt/anaconda3/lib/python3.8/site-packages/statsmodels/genmod/families/family.py:428: RuntimeWarning: divide by zero encountered in true_divide\n",
      "  endog_mu = self._clean(endog / mu)\n",
      "/opt/anaconda3/lib/python3.8/site-packages/statsmodels/genmod/families/family.py:134: RuntimeWarning: divide by zero encountered in true_divide\n",
      "  return 1. / (self.link.deriv(mu)**2 * self.variance(mu))\n",
      "/opt/anaconda3/lib/python3.8/site-packages/sklearn/preprocessing/_data.py:3237: RuntimeWarning: divide by zero encountered in log\n",
      "  loglike = -n_samples / 2 * np.log(x_trans.var())\n",
      "/opt/anaconda3/lib/python3.8/site-packages/autots/models/sklearn.py:366: VisibleDeprecationWarning: Creating an ndarray from ragged nested sequences (which is a list-or-tuple of lists-or-tuples-or ndarrays with different lengths or shapes) is deprecated. If you meant to do this, you must specify 'dtype=object' when creating the ndarray.\n",
      "  \"hidden_layer_sizes\": np.random.choice(\n"
     ]
    },
    {
     "name": "stdout",
     "output_type": "stream",
     "text": [
      "Template Eval Error: ValueError('NaN, inf or invalid value detected in weights, estimation infeasible.') in model 78: GLM\n",
      "Model Number: 79 with model SeasonalNaive in generation 0 of 5\n",
      "New Generation: 1 of 5\n",
      "Model Number: 80 with model UnobservedComponents in generation 1 of 5\n",
      "Model Number: 81 with model UnobservedComponents in generation 1 of 5\n",
      "Model Number: 82 with model UnobservedComponents in generation 1 of 5\n",
      "Model Number: 83 with model GLS in generation 1 of 5\n",
      "Model Number: 84 with model GLS in generation 1 of 5\n",
      "Model Number: 85 with model GLS in generation 1 of 5\n",
      "Model Number: 86 with model WindowRegression in generation 1 of 5\n"
     ]
    },
    {
     "name": "stderr",
     "output_type": "stream",
     "text": [
      "/opt/anaconda3/lib/python3.8/site-packages/sklearn/neural_network/_multilayer_perceptron.py:500: ConvergenceWarning: lbfgs failed to converge (status=1):\n",
      "STOP: TOTAL NO. of ITERATIONS REACHED LIMIT.\n",
      "\n",
      "Increase the number of iterations (max_iter) or scale the data as shown in:\n",
      "    https://scikit-learn.org/stable/modules/preprocessing.html\n",
      "  self.n_iter_ = _check_optimize_result(\"lbfgs\", opt_res, self.max_iter)\n",
      "/opt/anaconda3/lib/python3.8/site-packages/autots/models/sklearn.py:1013: DataConversionWarning: A column-vector y was passed when a 1d array was expected. Please change the shape of y to (n_samples,), for example using ravel().\n",
      "  self.regr = self.regr.fit(X, Y)\n"
     ]
    },
    {
     "name": "stdout",
     "output_type": "stream",
     "text": [
      "Model Number: 87 with model WindowRegression in generation 1 of 5\n"
     ]
    },
    {
     "name": "stderr",
     "output_type": "stream",
     "text": [
      "[Parallel(n_jobs=1)]: Using backend SequentialBackend with 1 concurrent workers.\n",
      "[Parallel(n_jobs=1)]: Done 1000 out of 1000 | elapsed:    1.1s finished\n",
      "[Parallel(n_jobs=1)]: Using backend SequentialBackend with 1 concurrent workers.\n",
      "[Parallel(n_jobs=1)]: Done 1000 out of 1000 | elapsed:    0.1s finished\n"
     ]
    },
    {
     "name": "stdout",
     "output_type": "stream",
     "text": [
      "Template Eval Error: ValueError(\"Input contains NaN, infinity or a value too large for dtype('float32').\") in model 87: WindowRegression\n",
      "Model Number: 88 with model WindowRegression in generation 1 of 5\n",
      "Template Eval Error: ValueError('at least one array or dtype is required') in model 88: WindowRegression\n",
      "Model Number: 89 with model WindowRegression in generation 1 of 5\n",
      "Template Eval Error: ValueError('at least one array or dtype is required') in model 89: WindowRegression\n",
      "Model Number: 90 with model SeasonalNaive in generation 1 of 5\n",
      "Model Number: 91 with model SeasonalNaive in generation 1 of 5\n",
      "Model Number: 92 with model SeasonalNaive in generation 1 of 5\n",
      "Model Number: 93 with model SeasonalNaive in generation 1 of 5\n",
      "Model Number: 94 with model ETS in generation 1 of 5\n",
      "Model Number: 95 with model ETS in generation 1 of 5\n",
      "Model Number: 96 with model ETS in generation 1 of 5\n",
      "Model Number: 97 with model ETS in generation 1 of 5\n"
     ]
    },
    {
     "name": "stderr",
     "output_type": "stream",
     "text": [
      "/opt/anaconda3/lib/python3.8/site-packages/statsmodels/tsa/holtwinters.py:956: RuntimeWarning: divide by zero encountered in log\n",
      "  aic = self.nobs * np.log(sse / self.nobs) + k * 2\n",
      "/opt/anaconda3/lib/python3.8/site-packages/statsmodels/tsa/holtwinters.py:962: RuntimeWarning: divide by zero encountered in log\n",
      "  bic = self.nobs * np.log(sse / self.nobs) + k * np.log(self.nobs)\n",
      "/opt/anaconda3/lib/python3.8/site-packages/statsmodels/tsa/holtwinters.py:956: RuntimeWarning: divide by zero encountered in log\n",
      "  aic = self.nobs * np.log(sse / self.nobs) + k * 2\n",
      "/opt/anaconda3/lib/python3.8/site-packages/statsmodels/tsa/holtwinters.py:962: RuntimeWarning: divide by zero encountered in log\n",
      "  bic = self.nobs * np.log(sse / self.nobs) + k * np.log(self.nobs)\n"
     ]
    },
    {
     "name": "stdout",
     "output_type": "stream",
     "text": [
      "Model Number: 98 with model DatepartRegression in generation 1 of 5\n",
      "Model Number: 99 with model DatepartRegression in generation 1 of 5\n"
     ]
    },
    {
     "name": "stderr",
     "output_type": "stream",
     "text": [
      "[Parallel(n_jobs=1)]: Using backend SequentialBackend with 1 concurrent workers.\n",
      "[Parallel(n_jobs=1)]: Done 1000 out of 1000 | elapsed:    0.5s finished\n",
      "[Parallel(n_jobs=1)]: Using backend SequentialBackend with 1 concurrent workers.\n",
      "[Parallel(n_jobs=1)]: Done 1000 out of 1000 | elapsed:    0.1s finished\n"
     ]
    },
    {
     "name": "stdout",
     "output_type": "stream",
     "text": [
      "Model Number: 100 with model DatepartRegression in generation 1 of 5\n",
      "Model Number: 101 with model LastValueNaive in generation 1 of 5\n"
     ]
    },
    {
     "name": "stderr",
     "output_type": "stream",
     "text": [
      "/opt/anaconda3/lib/python3.8/site-packages/sklearn/neural_network/_multilayer_perceptron.py:500: ConvergenceWarning: lbfgs failed to converge (status=1):\n",
      "STOP: TOTAL NO. of ITERATIONS REACHED LIMIT.\n",
      "\n",
      "Increase the number of iterations (max_iter) or scale the data as shown in:\n",
      "    https://scikit-learn.org/stable/modules/preprocessing.html\n",
      "  self.n_iter_ = _check_optimize_result(\"lbfgs\", opt_res, self.max_iter)\n",
      "/opt/anaconda3/lib/python3.8/site-packages/sklearn/preprocessing/_data.py:3237: RuntimeWarning: divide by zero encountered in log\n",
      "  loglike = -n_samples / 2 * np.log(x_trans.var())\n",
      "/opt/anaconda3/lib/python3.8/site-packages/sklearn/preprocessing/_data.py:3237: RuntimeWarning: divide by zero encountered in log\n",
      "  loglike = -n_samples / 2 * np.log(x_trans.var())\n",
      "/opt/anaconda3/lib/python3.8/site-packages/sklearn/preprocessing/_data.py:3237: RuntimeWarning: divide by zero encountered in log\n",
      "  loglike = -n_samples / 2 * np.log(x_trans.var())\n",
      "/opt/anaconda3/lib/python3.8/site-packages/sklearn/preprocessing/_data.py:3179: RuntimeWarning: divide by zero encountered in power\n",
      "  x_inv[pos] = np.power(x[pos] * lmbda + 1, 1 / lmbda) - 1\n",
      "/opt/anaconda3/lib/python3.8/site-packages/sklearn/preprocessing/_data.py:3179: RuntimeWarning: divide by zero encountered in power\n",
      "  x_inv[pos] = np.power(x[pos] * lmbda + 1, 1 / lmbda) - 1\n",
      "/opt/anaconda3/lib/python3.8/site-packages/sklearn/preprocessing/_data.py:3179: RuntimeWarning: divide by zero encountered in power\n",
      "  x_inv[pos] = np.power(x[pos] * lmbda + 1, 1 / lmbda) - 1\n",
      "/opt/anaconda3/lib/python3.8/site-packages/scipy/optimize/minpack.py:828: OptimizeWarning: Covariance of the parameters could not be estimated\n",
      "  warnings.warn('Covariance of the parameters could not be estimated',\n"
     ]
    },
    {
     "name": "stdout",
     "output_type": "stream",
     "text": [
      "Model Number: 102 with model LastValueNaive in generation 1 of 5\n",
      "Model Number: 103 with model AverageValueNaive in generation 1 of 5\n",
      "Model Number: 104 with model AverageValueNaive in generation 1 of 5\n",
      "Model Number: 105 with model AverageValueNaive in generation 1 of 5\n",
      "Model Number: 106 with model RollingRegression in generation 1 of 5\n",
      "Template Eval Error: ValueError('Found input variables with inconsistent numbers of samples: [160, 79]') in model 106: RollingRegression\n",
      "Model Number: 107 with model RollingRegression in generation 1 of 5\n",
      "Template Eval Error: ValueError(\"Input contains NaN, infinity or a value too large for dtype('float32').\") in model 107: RollingRegression\n",
      "Model Number: 108 with model RollingRegression in generation 1 of 5\n",
      "Model Number: 109 with model RollingRegression in generation 1 of 5\n",
      "Model Number: 110 with model ZeroesNaive in generation 1 of 5\n",
      "Model Number: 111 with model ZeroesNaive in generation 1 of 5\n",
      "Model Number: 112 with model ZeroesNaive in generation 1 of 5\n",
      "Model Number: 113 with model GLM in generation 1 of 5\n",
      "Template Eval Error: ValueError('The first guess on the deviance function returned a nan.  This could be a boundary  problem and should be reported.') in model 113: GLM\n",
      "Model Number: 114 with model GLM in generation 1 of 5\n",
      "Model Number: 115 with model GLM in generation 1 of 5\n",
      "Model Number: 116 with model GLM in generation 1 of 5\n"
     ]
    },
    {
     "name": "stderr",
     "output_type": "stream",
     "text": [
      "/opt/anaconda3/lib/python3.8/site-packages/statsmodels/genmod/families/family.py:1443: RuntimeWarning: invalid value encountered in log\n",
      "  endog * np.log(endog / mu) + (mu - endog))\n",
      "/opt/anaconda3/lib/python3.8/site-packages/sklearn/preprocessing/_data.py:3237: RuntimeWarning: divide by zero encountered in log\n",
      "  loglike = -n_samples / 2 * np.log(x_trans.var())\n",
      "/opt/anaconda3/lib/python3.8/site-packages/sklearn/preprocessing/_data.py:3237: RuntimeWarning: divide by zero encountered in log\n",
      "  loglike = -n_samples / 2 * np.log(x_trans.var())\n",
      "/opt/anaconda3/lib/python3.8/site-packages/statsmodels/genmod/families/links.py:188: RuntimeWarning: overflow encountered in exp\n",
      "  t = np.exp(-z)\n",
      "/opt/anaconda3/lib/python3.8/site-packages/statsmodels/genmod/families/family.py:893: RuntimeWarning: divide by zero encountered in true_divide\n",
      "  endog_mu = self._clean(endog / mu)\n"
     ]
    },
    {
     "name": "stdout",
     "output_type": "stream",
     "text": [
      "Model Number: 117 with model GluonTS in generation 1 of 5\n",
      "Template Eval Error: ImportError('GluonTS installation not found or installed version is incompatible with AutoTS.') in model 117: GluonTS\n",
      "Model Number: 118 with model GluonTS in generation 1 of 5\n",
      "Template Eval Error: ImportError('GluonTS installation not found or installed version is incompatible with AutoTS.') in model 118: GluonTS\n",
      "Model Number: 119 with model GluonTS in generation 1 of 5\n",
      "Template Eval Error: ImportError('GluonTS installation not found or installed version is incompatible with AutoTS.') in model 119: GluonTS\n",
      "Model Number: 120 with model GluonTS in generation 1 of 5\n",
      "Template Eval Error: ImportError('GluonTS installation not found or installed version is incompatible with AutoTS.') in model 120: GluonTS\n",
      "Model Number: 121 with model VAR in generation 1 of 5\n",
      "Template Eval Error: LinAlgError('6-th leading minor of the array is not positive definite') in model 121: VAR\n",
      "Model Number: 122 with model VAR in generation 1 of 5\n",
      "Template Eval Error: LinAlgError('6-th leading minor of the array is not positive definite') in model 122: VAR\n",
      "Model Number: 123 with model VAR in generation 1 of 5\n",
      "Template Eval Error: LinAlgError('6-th leading minor of the array is not positive definite') in model 123: VAR\n",
      "Model Number: 124 with model VECM in generation 1 of 5\n",
      "Template Eval Error: LinAlgError('Singular matrix') in model 124: VECM\n",
      "Model Number: 125 with model VECM in generation 1 of 5\n",
      "Template Eval Error: LinAlgError('Singular matrix') in model 125: VECM\n",
      "Model Number: 126 with model VECM in generation 1 of 5\n",
      "Template Eval Error: LinAlgError('Singular matrix') in model 126: VECM\n",
      "Model Number: 127 with model VECM in generation 1 of 5\n",
      "Template Eval Error: LinAlgError('Singular matrix') in model 127: VECM\n",
      "Model Number: 128 with model FBProphet in generation 1 of 5\n",
      "Template Eval Error: ImportError('Package fbprophet is required') in model 128: FBProphet\n",
      "Model Number: 129 with model FBProphet in generation 1 of 5\n"
     ]
    },
    {
     "name": "stderr",
     "output_type": "stream",
     "text": [
      "/opt/anaconda3/lib/python3.8/site-packages/sklearn/preprocessing/_data.py:3237: RuntimeWarning: divide by zero encountered in log\n",
      "  loglike = -n_samples / 2 * np.log(x_trans.var())\n"
     ]
    },
    {
     "name": "stdout",
     "output_type": "stream",
     "text": [
      "Template Eval Error: ImportError('Package fbprophet is required') in model 129: FBProphet\n",
      "Model Number: 130 with model FBProphet in generation 1 of 5\n",
      "Template Eval Error: ImportError('Package fbprophet is required') in model 130: FBProphet\n",
      "Model Number: 131 with model FBProphet in generation 1 of 5\n",
      "Template Eval Error: ImportError('Package fbprophet is required') in model 131: FBProphet\n",
      "New Generation: 2 of 5\n",
      "Model Number: 132 with model SeasonalNaive in generation 2 of 5\n",
      "Model Number: 133 with model SeasonalNaive in generation 2 of 5\n",
      "Model Number: 134 with model SeasonalNaive in generation 2 of 5\n",
      "Model Number: 135 with model SeasonalNaive in generation 2 of 5\n",
      "Model Number: 136 with model UnobservedComponents in generation 2 of 5\n",
      "Model Number: 137 with model UnobservedComponents in generation 2 of 5\n",
      "Model Number: 138 with model UnobservedComponents in generation 2 of 5\n"
     ]
    },
    {
     "name": "stderr",
     "output_type": "stream",
     "text": [
      "/opt/anaconda3/lib/python3.8/site-packages/sklearn/preprocessing/_data.py:3237: RuntimeWarning: divide by zero encountered in log\n",
      "  loglike = -n_samples / 2 * np.log(x_trans.var())\n",
      "/opt/anaconda3/lib/python3.8/site-packages/sklearn/preprocessing/_data.py:3179: RuntimeWarning: divide by zero encountered in power\n",
      "  x_inv[pos] = np.power(x[pos] * lmbda + 1, 1 / lmbda) - 1\n",
      "/opt/anaconda3/lib/python3.8/site-packages/sklearn/preprocessing/_data.py:3179: RuntimeWarning: divide by zero encountered in power\n",
      "  x_inv[pos] = np.power(x[pos] * lmbda + 1, 1 / lmbda) - 1\n",
      "/opt/anaconda3/lib/python3.8/site-packages/sklearn/preprocessing/_data.py:3179: RuntimeWarning: divide by zero encountered in power\n",
      "  x_inv[pos] = np.power(x[pos] * lmbda + 1, 1 / lmbda) - 1\n"
     ]
    },
    {
     "name": "stdout",
     "output_type": "stream",
     "text": [
      "Model Number: 139 with model GLS in generation 2 of 5\n",
      "Model Number: 140 with model GLS in generation 2 of 5\n",
      "Model Number: 141 with model GLS in generation 2 of 5\n",
      "Model Number: 142 with model ZeroesNaive in generation 2 of 5\n",
      "Model Number: 143 with model ZeroesNaive in generation 2 of 5\n",
      "Model Number: 144 with model ZeroesNaive in generation 2 of 5\n",
      "Model Number: 145 with model WindowRegression in generation 2 of 5\n"
     ]
    },
    {
     "name": "stderr",
     "output_type": "stream",
     "text": [
      "/opt/anaconda3/lib/python3.8/site-packages/sklearn/neural_network/_multilayer_perceptron.py:500: ConvergenceWarning: lbfgs failed to converge (status=1):\n",
      "STOP: TOTAL NO. of ITERATIONS REACHED LIMIT.\n",
      "\n",
      "Increase the number of iterations (max_iter) or scale the data as shown in:\n",
      "    https://scikit-learn.org/stable/modules/preprocessing.html\n",
      "  self.n_iter_ = _check_optimize_result(\"lbfgs\", opt_res, self.max_iter)\n"
     ]
    },
    {
     "name": "stdout",
     "output_type": "stream",
     "text": [
      "Model Number: 146 with model WindowRegression in generation 2 of 5\n"
     ]
    },
    {
     "name": "stderr",
     "output_type": "stream",
     "text": [
      "/opt/anaconda3/lib/python3.8/site-packages/sklearn/neural_network/_multilayer_perceptron.py:500: ConvergenceWarning: lbfgs failed to converge (status=1):\n",
      "STOP: TOTAL NO. of ITERATIONS REACHED LIMIT.\n",
      "\n",
      "Increase the number of iterations (max_iter) or scale the data as shown in:\n",
      "    https://scikit-learn.org/stable/modules/preprocessing.html\n",
      "  self.n_iter_ = _check_optimize_result(\"lbfgs\", opt_res, self.max_iter)\n",
      "/opt/anaconda3/lib/python3.8/site-packages/sklearn/preprocessing/_data.py:3237: RuntimeWarning: divide by zero encountered in log\n",
      "  loglike = -n_samples / 2 * np.log(x_trans.var())\n"
     ]
    },
    {
     "name": "stdout",
     "output_type": "stream",
     "text": [
      "Model Number: 147 with model WindowRegression in generation 2 of 5\n"
     ]
    },
    {
     "name": "stderr",
     "output_type": "stream",
     "text": [
      "/opt/anaconda3/lib/python3.8/site-packages/sklearn/neural_network/_multilayer_perceptron.py:500: ConvergenceWarning: lbfgs failed to converge (status=1):\n",
      "STOP: TOTAL NO. of ITERATIONS REACHED LIMIT.\n",
      "\n",
      "Increase the number of iterations (max_iter) or scale the data as shown in:\n",
      "    https://scikit-learn.org/stable/modules/preprocessing.html\n",
      "  self.n_iter_ = _check_optimize_result(\"lbfgs\", opt_res, self.max_iter)\n",
      "/opt/anaconda3/lib/python3.8/site-packages/sklearn/preprocessing/_data.py:3237: RuntimeWarning: divide by zero encountered in log\n",
      "  loglike = -n_samples / 2 * np.log(x_trans.var())\n"
     ]
    },
    {
     "name": "stdout",
     "output_type": "stream",
     "text": [
      "Model Number: 148 with model WindowRegression in generation 2 of 5\n"
     ]
    },
    {
     "name": "stderr",
     "output_type": "stream",
     "text": [
      "/opt/anaconda3/lib/python3.8/site-packages/sklearn/neural_network/_multilayer_perceptron.py:500: ConvergenceWarning: lbfgs failed to converge (status=1):\n",
      "STOP: TOTAL NO. of ITERATIONS REACHED LIMIT.\n",
      "\n",
      "Increase the number of iterations (max_iter) or scale the data as shown in:\n",
      "    https://scikit-learn.org/stable/modules/preprocessing.html\n",
      "  self.n_iter_ = _check_optimize_result(\"lbfgs\", opt_res, self.max_iter)\n",
      "/opt/anaconda3/lib/python3.8/site-packages/statsmodels/tsa/holtwinters.py:956: RuntimeWarning: divide by zero encountered in log\n",
      "  aic = self.nobs * np.log(sse / self.nobs) + k * 2\n",
      "/opt/anaconda3/lib/python3.8/site-packages/statsmodels/tsa/holtwinters.py:962: RuntimeWarning: divide by zero encountered in log\n",
      "  bic = self.nobs * np.log(sse / self.nobs) + k * np.log(self.nobs)\n",
      "/opt/anaconda3/lib/python3.8/site-packages/sklearn/preprocessing/_data.py:3237: RuntimeWarning: divide by zero encountered in log\n",
      "  loglike = -n_samples / 2 * np.log(x_trans.var())\n",
      "/opt/anaconda3/lib/python3.8/site-packages/sklearn/preprocessing/_data.py:3179: RuntimeWarning: divide by zero encountered in power\n",
      "  x_inv[pos] = np.power(x[pos] * lmbda + 1, 1 / lmbda) - 1\n",
      "/opt/anaconda3/lib/python3.8/site-packages/sklearn/preprocessing/_data.py:3179: RuntimeWarning: divide by zero encountered in power\n",
      "  x_inv[pos] = np.power(x[pos] * lmbda + 1, 1 / lmbda) - 1\n",
      "/opt/anaconda3/lib/python3.8/site-packages/sklearn/preprocessing/_data.py:3179: RuntimeWarning: divide by zero encountered in power\n",
      "  x_inv[pos] = np.power(x[pos] * lmbda + 1, 1 / lmbda) - 1\n",
      "/opt/anaconda3/lib/python3.8/site-packages/sklearn/preprocessing/_data.py:3237: RuntimeWarning: divide by zero encountered in log\n",
      "  loglike = -n_samples / 2 * np.log(x_trans.var())\n"
     ]
    },
    {
     "name": "stdout",
     "output_type": "stream",
     "text": [
      "Model Number: 149 with model ETS in generation 2 of 5\n",
      "Model Number: 150 with model ETS in generation 2 of 5\n",
      "Model Number: 151 with model ETS in generation 2 of 5\n",
      "Model Number: 152 with model ETS in generation 2 of 5\n"
     ]
    },
    {
     "name": "stderr",
     "output_type": "stream",
     "text": [
      "/opt/anaconda3/lib/python3.8/site-packages/sklearn/preprocessing/_data.py:3179: RuntimeWarning: divide by zero encountered in power\n",
      "  x_inv[pos] = np.power(x[pos] * lmbda + 1, 1 / lmbda) - 1\n",
      "/opt/anaconda3/lib/python3.8/site-packages/sklearn/preprocessing/_data.py:3179: RuntimeWarning: divide by zero encountered in power\n",
      "  x_inv[pos] = np.power(x[pos] * lmbda + 1, 1 / lmbda) - 1\n",
      "/opt/anaconda3/lib/python3.8/site-packages/sklearn/preprocessing/_data.py:3179: RuntimeWarning: divide by zero encountered in power\n",
      "  x_inv[pos] = np.power(x[pos] * lmbda + 1, 1 / lmbda) - 1\n",
      "/opt/anaconda3/lib/python3.8/site-packages/statsmodels/tsa/holtwinters.py:956: RuntimeWarning: divide by zero encountered in log\n",
      "  aic = self.nobs * np.log(sse / self.nobs) + k * 2\n",
      "/opt/anaconda3/lib/python3.8/site-packages/statsmodels/tsa/holtwinters.py:962: RuntimeWarning: divide by zero encountered in log\n",
      "  bic = self.nobs * np.log(sse / self.nobs) + k * np.log(self.nobs)\n",
      "/opt/anaconda3/lib/python3.8/site-packages/sklearn/preprocessing/_data.py:3237: RuntimeWarning: divide by zero encountered in log\n",
      "  loglike = -n_samples / 2 * np.log(x_trans.var())\n",
      "/opt/anaconda3/lib/python3.8/site-packages/statsmodels/genmod/families/family.py:1443: RuntimeWarning: invalid value encountered in log\n",
      "  endog * np.log(endog / mu) + (mu - endog))\n",
      "/opt/anaconda3/lib/python3.8/site-packages/statsmodels/genmod/families/family.py:1443: RuntimeWarning: divide by zero encountered in true_divide\n",
      "  endog * np.log(endog / mu) + (mu - endog))\n",
      "/opt/anaconda3/lib/python3.8/site-packages/statsmodels/genmod/generalized_linear_model.py:774: RuntimeWarning: divide by zero encountered in true_divide\n",
      "  return np.sum(resid / self.family.variance(mu)) / self.df_resid\n",
      "/opt/anaconda3/lib/python3.8/site-packages/statsmodels/genmod/families/family.py:134: RuntimeWarning: divide by zero encountered in true_divide\n",
      "  return 1. / (self.link.deriv(mu)**2 * self.variance(mu))\n"
     ]
    },
    {
     "name": "stdout",
     "output_type": "stream",
     "text": [
      "Model Number: 153 with model GLM in generation 2 of 5\n",
      "Template Eval Error: ValueError('NaN, inf or invalid value detected in weights, estimation infeasible.') in model 153: GLM\n",
      "Model Number: 154 with model GLM in generation 2 of 5\n",
      "Template Eval Error: ValueError('NaN, inf or invalid value detected in weights, estimation infeasible.') in model 154: GLM\n",
      "Model Number: 155 with model GLM in generation 2 of 5\n"
     ]
    },
    {
     "name": "stderr",
     "output_type": "stream",
     "text": [
      "/opt/anaconda3/lib/python3.8/site-packages/sklearn/preprocessing/_data.py:3237: RuntimeWarning: divide by zero encountered in log\n",
      "  loglike = -n_samples / 2 * np.log(x_trans.var())\n",
      "/opt/anaconda3/lib/python3.8/site-packages/statsmodels/genmod/families/family.py:1443: RuntimeWarning: invalid value encountered in log\n",
      "  endog * np.log(endog / mu) + (mu - endog))\n",
      "/opt/anaconda3/lib/python3.8/site-packages/statsmodels/genmod/families/family.py:1443: RuntimeWarning: divide by zero encountered in true_divide\n",
      "  endog * np.log(endog / mu) + (mu - endog))\n",
      "/opt/anaconda3/lib/python3.8/site-packages/statsmodels/genmod/generalized_linear_model.py:774: RuntimeWarning: divide by zero encountered in true_divide\n",
      "  return np.sum(resid / self.family.variance(mu)) / self.df_resid\n",
      "/opt/anaconda3/lib/python3.8/site-packages/statsmodels/genmod/families/family.py:134: RuntimeWarning: divide by zero encountered in true_divide\n",
      "  return 1. / (self.link.deriv(mu)**2 * self.variance(mu))\n",
      "/opt/anaconda3/lib/python3.8/site-packages/sklearn/preprocessing/_data.py:3237: RuntimeWarning: divide by zero encountered in log\n",
      "  loglike = -n_samples / 2 * np.log(x_trans.var())\n",
      "/opt/anaconda3/lib/python3.8/site-packages/statsmodels/genmod/families/family.py:1230: RuntimeWarning: invalid value encountered in log\n",
      "  resid_dev -= endog_alpha * np.log(endog_alpha / mu_alpha)\n",
      "/opt/anaconda3/lib/python3.8/site-packages/sklearn/preprocessing/_data.py:3237: RuntimeWarning: divide by zero encountered in log\n",
      "  loglike = -n_samples / 2 * np.log(x_trans.var())\n",
      "/opt/anaconda3/lib/python3.8/site-packages/statsmodels/genmod/families/family.py:1443: RuntimeWarning: invalid value encountered in log\n",
      "  endog * np.log(endog / mu) + (mu - endog))\n",
      "/opt/anaconda3/lib/python3.8/site-packages/statsmodels/genmod/families/family.py:1443: RuntimeWarning: divide by zero encountered in true_divide\n",
      "  endog * np.log(endog / mu) + (mu - endog))\n",
      "/opt/anaconda3/lib/python3.8/site-packages/statsmodels/genmod/generalized_linear_model.py:774: RuntimeWarning: divide by zero encountered in true_divide\n",
      "  return np.sum(resid / self.family.variance(mu)) / self.df_resid\n",
      "/opt/anaconda3/lib/python3.8/site-packages/statsmodels/genmod/families/family.py:134: RuntimeWarning: divide by zero encountered in true_divide\n",
      "  return 1. / (self.link.deriv(mu)**2 * self.variance(mu))\n",
      "/opt/anaconda3/lib/python3.8/site-packages/sklearn/preprocessing/_data.py:3237: RuntimeWarning: divide by zero encountered in log\n",
      "  loglike = -n_samples / 2 * np.log(x_trans.var())\n",
      "/opt/anaconda3/lib/python3.8/site-packages/sklearn/preprocessing/_data.py:3179: RuntimeWarning: divide by zero encountered in power\n",
      "  x_inv[pos] = np.power(x[pos] * lmbda + 1, 1 / lmbda) - 1\n",
      "/opt/anaconda3/lib/python3.8/site-packages/sklearn/preprocessing/_data.py:3179: RuntimeWarning: divide by zero encountered in power\n",
      "  x_inv[pos] = np.power(x[pos] * lmbda + 1, 1 / lmbda) - 1\n",
      "/opt/anaconda3/lib/python3.8/site-packages/sklearn/preprocessing/_data.py:3179: RuntimeWarning: divide by zero encountered in power\n",
      "  x_inv[pos] = np.power(x[pos] * lmbda + 1, 1 / lmbda) - 1\n"
     ]
    },
    {
     "name": "stdout",
     "output_type": "stream",
     "text": [
      "Template Eval Error: ValueError('The first guess on the deviance function returned a nan.  This could be a boundary  problem and should be reported.') in model 155: GLM\n",
      "Model Number: 156 with model GLM in generation 2 of 5\n",
      "Template Eval Error: ValueError('NaN, inf or invalid value detected in weights, estimation infeasible.') in model 156: GLM\n",
      "Model Number: 157 with model DatepartRegression in generation 2 of 5\n",
      "Model Number: 158 with model DatepartRegression in generation 2 of 5\n",
      "Model Number: 159 with model DatepartRegression in generation 2 of 5\n",
      "Model Number: 160 with model LastValueNaive in generation 2 of 5\n",
      "Model Number: 161 with model LastValueNaive in generation 2 of 5\n",
      "Model Number: 162 with model LastValueNaive in generation 2 of 5\n",
      "Model Number: 163 with model AverageValueNaive in generation 2 of 5\n",
      "Model Number: 164 with model AverageValueNaive in generation 2 of 5\n",
      "Model Number: 165 with model AverageValueNaive in generation 2 of 5\n",
      "Model Number: 166 with model RollingRegression in generation 2 of 5\n",
      "Template Eval Error: ValueError(\"Input contains NaN, infinity or a value too large for dtype('float64').\") in model 166: RollingRegression\n",
      "Model Number: 167 with model RollingRegression in generation 2 of 5\n",
      "Model Number: 168 with model RollingRegression in generation 2 of 5\n",
      "Model Number: 169 with model RollingRegression in generation 2 of 5\n",
      "Model Number: 170 with model GluonTS in generation 2 of 5\n",
      "Template Eval Error: ImportError('GluonTS installation not found or installed version is incompatible with AutoTS.') in model 170: GluonTS\n",
      "Model Number: 171 with model GluonTS in generation 2 of 5\n",
      "Template Eval Error: ImportError('GluonTS installation not found or installed version is incompatible with AutoTS.') in model 171: GluonTS\n",
      "Model Number: 172 with model GluonTS in generation 2 of 5\n",
      "Template Eval Error: ImportError('GluonTS installation not found or installed version is incompatible with AutoTS.') in model 172: GluonTS\n",
      "Model Number: 173 with model GluonTS in generation 2 of 5\n",
      "Template Eval Error: ImportError('GluonTS installation not found or installed version is incompatible with AutoTS.') in model 173: GluonTS\n",
      "Model Number: 174 with model VAR in generation 2 of 5\n",
      "Template Eval Error: LinAlgError('6-th leading minor of the array is not positive definite') in model 174: VAR\n",
      "Model Number: 175 with model VAR in generation 2 of 5\n",
      "Template Eval Error: LinAlgError('5-th leading minor of the array is not positive definite') in model 175: VAR\n",
      "Model Number: 176 with model VAR in generation 2 of 5\n",
      "Template Eval Error: LinAlgError('6-th leading minor of the array is not positive definite') in model 176: VAR\n",
      "Model Number: 177 with model VAR in generation 2 of 5\n",
      "Template Eval Error: LinAlgError('6-th leading minor of the array is not positive definite') in model 177: VAR\n",
      "Model Number: 178 with model VECM in generation 2 of 5\n",
      "Template Eval Error: LinAlgError('Singular matrix') in model 178: VECM\n",
      "Model Number: 179 with model VECM in generation 2 of 5\n"
     ]
    },
    {
     "name": "stderr",
     "output_type": "stream",
     "text": [
      "/opt/anaconda3/lib/python3.8/site-packages/sklearn/preprocessing/_data.py:3237: RuntimeWarning: divide by zero encountered in log\n",
      "  loglike = -n_samples / 2 * np.log(x_trans.var())\n",
      "/opt/anaconda3/lib/python3.8/site-packages/sklearn/preprocessing/_data.py:3237: RuntimeWarning: divide by zero encountered in log\n",
      "  loglike = -n_samples / 2 * np.log(x_trans.var())\n",
      "/opt/anaconda3/lib/python3.8/site-packages/sklearn/preprocessing/_data.py:3237: RuntimeWarning: divide by zero encountered in log\n",
      "  loglike = -n_samples / 2 * np.log(x_trans.var())\n",
      "/opt/anaconda3/lib/python3.8/site-packages/sklearn/preprocessing/_data.py:3237: RuntimeWarning: divide by zero encountered in log\n",
      "  loglike = -n_samples / 2 * np.log(x_trans.var())\n",
      "/opt/anaconda3/lib/python3.8/site-packages/sklearn/preprocessing/_data.py:3237: RuntimeWarning: divide by zero encountered in log\n",
      "  loglike = -n_samples / 2 * np.log(x_trans.var())\n",
      "/opt/anaconda3/lib/python3.8/site-packages/sklearn/preprocessing/_data.py:3237: RuntimeWarning: divide by zero encountered in log\n",
      "  loglike = -n_samples / 2 * np.log(x_trans.var())\n",
      "/opt/anaconda3/lib/python3.8/site-packages/sklearn/preprocessing/_data.py:3237: RuntimeWarning: divide by zero encountered in log\n",
      "  loglike = -n_samples / 2 * np.log(x_trans.var())\n",
      "/opt/anaconda3/lib/python3.8/site-packages/sklearn/preprocessing/_data.py:3237: RuntimeWarning: divide by zero encountered in log\n",
      "  loglike = -n_samples / 2 * np.log(x_trans.var())\n"
     ]
    },
    {
     "name": "stdout",
     "output_type": "stream",
     "text": [
      "Template Eval Error: LinAlgError('Singular matrix') in model 179: VECM\n",
      "Model Number: 180 with model VECM in generation 2 of 5\n",
      "Template Eval Error: LinAlgError('Singular matrix') in model 180: VECM\n",
      "Model Number: 181 with model VECM in generation 2 of 5\n",
      "Template Eval Error: LinAlgError('Singular matrix') in model 181: VECM\n",
      "Model Number: 182 with model FBProphet in generation 2 of 5\n",
      "Template Eval Error: ImportError('Package fbprophet is required') in model 182: FBProphet\n",
      "Model Number: 183 with model FBProphet in generation 2 of 5\n",
      "Template Eval Error: ImportError('Package fbprophet is required') in model 183: FBProphet\n",
      "Model Number: 184 with model FBProphet in generation 2 of 5\n",
      "Template Eval Error: ImportError('Package fbprophet is required') in model 184: FBProphet\n",
      "Model Number: 185 with model FBProphet in generation 2 of 5\n",
      "Template Eval Error: ImportError('Package fbprophet is required') in model 185: FBProphet\n",
      "New Generation: 3 of 5\n",
      "Model Number: 186 with model SeasonalNaive in generation 3 of 5\n",
      "Model Number: 187 with model SeasonalNaive in generation 3 of 5\n",
      "Model Number: 188 with model SeasonalNaive in generation 3 of 5\n",
      "Model Number: 189 with model SeasonalNaive in generation 3 of 5\n",
      "Model Number: 190 with model UnobservedComponents in generation 3 of 5\n",
      "Model Number: 191 with model UnobservedComponents in generation 3 of 5\n"
     ]
    },
    {
     "name": "stderr",
     "output_type": "stream",
     "text": [
      "/opt/anaconda3/lib/python3.8/site-packages/sklearn/preprocessing/_data.py:3237: RuntimeWarning: divide by zero encountered in log\n",
      "  loglike = -n_samples / 2 * np.log(x_trans.var())\n",
      "/opt/anaconda3/lib/python3.8/site-packages/sklearn/preprocessing/_data.py:3237: RuntimeWarning: divide by zero encountered in log\n",
      "  loglike = -n_samples / 2 * np.log(x_trans.var())\n",
      "/opt/anaconda3/lib/python3.8/site-packages/sklearn/preprocessing/_data.py:3179: RuntimeWarning: divide by zero encountered in power\n",
      "  x_inv[pos] = np.power(x[pos] * lmbda + 1, 1 / lmbda) - 1\n",
      "/opt/anaconda3/lib/python3.8/site-packages/sklearn/preprocessing/_data.py:3179: RuntimeWarning: divide by zero encountered in power\n",
      "  x_inv[pos] = np.power(x[pos] * lmbda + 1, 1 / lmbda) - 1\n",
      "/opt/anaconda3/lib/python3.8/site-packages/sklearn/preprocessing/_data.py:3179: RuntimeWarning: divide by zero encountered in power\n",
      "  x_inv[pos] = np.power(x[pos] * lmbda + 1, 1 / lmbda) - 1\n",
      "/opt/anaconda3/lib/python3.8/site-packages/sklearn/preprocessing/_data.py:3237: RuntimeWarning: divide by zero encountered in log\n",
      "  loglike = -n_samples / 2 * np.log(x_trans.var())\n",
      "/opt/anaconda3/lib/python3.8/site-packages/sklearn/preprocessing/_data.py:3179: RuntimeWarning: divide by zero encountered in power\n",
      "  x_inv[pos] = np.power(x[pos] * lmbda + 1, 1 / lmbda) - 1\n",
      "/opt/anaconda3/lib/python3.8/site-packages/sklearn/preprocessing/_data.py:3179: RuntimeWarning: divide by zero encountered in power\n",
      "  x_inv[pos] = np.power(x[pos] * lmbda + 1, 1 / lmbda) - 1\n",
      "/opt/anaconda3/lib/python3.8/site-packages/sklearn/preprocessing/_data.py:3179: RuntimeWarning: divide by zero encountered in power\n",
      "  x_inv[pos] = np.power(x[pos] * lmbda + 1, 1 / lmbda) - 1\n"
     ]
    },
    {
     "name": "stdout",
     "output_type": "stream",
     "text": [
      "Model Number: 192 with model UnobservedComponents in generation 3 of 5\n",
      "Model Number: 193 with model ETS in generation 3 of 5\n",
      "Model Number: 194 with model ETS in generation 3 of 5\n",
      "Model Number: 195 with model ETS in generation 3 of 5\n"
     ]
    },
    {
     "name": "stderr",
     "output_type": "stream",
     "text": [
      "/opt/anaconda3/lib/python3.8/site-packages/statsmodels/tsa/holtwinters.py:956: RuntimeWarning: divide by zero encountered in log\n",
      "  aic = self.nobs * np.log(sse / self.nobs) + k * 2\n",
      "/opt/anaconda3/lib/python3.8/site-packages/statsmodels/tsa/holtwinters.py:962: RuntimeWarning: divide by zero encountered in log\n",
      "  bic = self.nobs * np.log(sse / self.nobs) + k * np.log(self.nobs)\n",
      "/opt/anaconda3/lib/python3.8/site-packages/sklearn/preprocessing/_data.py:3237: RuntimeWarning: divide by zero encountered in log\n",
      "  loglike = -n_samples / 2 * np.log(x_trans.var())\n",
      "/opt/anaconda3/lib/python3.8/site-packages/statsmodels/tsa/holtwinters.py:956: RuntimeWarning: divide by zero encountered in log\n",
      "  aic = self.nobs * np.log(sse / self.nobs) + k * 2\n",
      "/opt/anaconda3/lib/python3.8/site-packages/statsmodels/tsa/holtwinters.py:962: RuntimeWarning: divide by zero encountered in log\n",
      "  bic = self.nobs * np.log(sse / self.nobs) + k * np.log(self.nobs)\n",
      "/opt/anaconda3/lib/python3.8/site-packages/sklearn/preprocessing/_data.py:3237: RuntimeWarning: divide by zero encountered in log\n",
      "  loglike = -n_samples / 2 * np.log(x_trans.var())\n",
      "/opt/anaconda3/lib/python3.8/site-packages/statsmodels/tsa/holtwinters.py:956: RuntimeWarning: divide by zero encountered in log\n",
      "  aic = self.nobs * np.log(sse / self.nobs) + k * 2\n",
      "/opt/anaconda3/lib/python3.8/site-packages/statsmodels/tsa/holtwinters.py:962: RuntimeWarning: divide by zero encountered in log\n",
      "  bic = self.nobs * np.log(sse / self.nobs) + k * np.log(self.nobs)\n"
     ]
    },
    {
     "name": "stdout",
     "output_type": "stream",
     "text": [
      "Model Number: 196 with model ETS in generation 3 of 5\n",
      "Model Number: 197 with model GLS in generation 3 of 5\n",
      "Model Number: 198 with model GLS in generation 3 of 5\n",
      "Model Number: 199 with model ZeroesNaive in generation 3 of 5\n"
     ]
    },
    {
     "name": "stderr",
     "output_type": "stream",
     "text": [
      "/opt/anaconda3/lib/python3.8/site-packages/statsmodels/tsa/holtwinters.py:956: RuntimeWarning: divide by zero encountered in log\n",
      "  aic = self.nobs * np.log(sse / self.nobs) + k * 2\n",
      "/opt/anaconda3/lib/python3.8/site-packages/statsmodels/tsa/holtwinters.py:962: RuntimeWarning: divide by zero encountered in log\n",
      "  bic = self.nobs * np.log(sse / self.nobs) + k * np.log(self.nobs)\n",
      "/opt/anaconda3/lib/python3.8/site-packages/sklearn/preprocessing/_data.py:3237: RuntimeWarning: divide by zero encountered in log\n",
      "  loglike = -n_samples / 2 * np.log(x_trans.var())\n",
      "/opt/anaconda3/lib/python3.8/site-packages/sklearn/preprocessing/_data.py:3237: RuntimeWarning: divide by zero encountered in log\n",
      "  loglike = -n_samples / 2 * np.log(x_trans.var())\n",
      "/opt/anaconda3/lib/python3.8/site-packages/sklearn/preprocessing/_data.py:3237: RuntimeWarning: divide by zero encountered in log\n",
      "  loglike = -n_samples / 2 * np.log(x_trans.var())\n"
     ]
    },
    {
     "name": "stdout",
     "output_type": "stream",
     "text": [
      "Model Number: 200 with model ZeroesNaive in generation 3 of 5\n",
      "Model Number: 201 with model ZeroesNaive in generation 3 of 5\n",
      "Model Number: 202 with model WindowRegression in generation 3 of 5\n"
     ]
    },
    {
     "name": "stderr",
     "output_type": "stream",
     "text": [
      "/opt/anaconda3/lib/python3.8/site-packages/sklearn/neural_network/_multilayer_perceptron.py:500: ConvergenceWarning: lbfgs failed to converge (status=1):\n",
      "STOP: TOTAL NO. of ITERATIONS REACHED LIMIT.\n",
      "\n",
      "Increase the number of iterations (max_iter) or scale the data as shown in:\n",
      "    https://scikit-learn.org/stable/modules/preprocessing.html\n",
      "  self.n_iter_ = _check_optimize_result(\"lbfgs\", opt_res, self.max_iter)\n"
     ]
    },
    {
     "name": "stdout",
     "output_type": "stream",
     "text": [
      "Model Number: 203 with model WindowRegression in generation 3 of 5\n",
      "Model Number: 204 with model WindowRegression in generation 3 of 5\n"
     ]
    },
    {
     "name": "stderr",
     "output_type": "stream",
     "text": [
      "/opt/anaconda3/lib/python3.8/site-packages/sklearn/neural_network/_multilayer_perceptron.py:500: ConvergenceWarning: lbfgs failed to converge (status=1):\n",
      "STOP: TOTAL NO. of ITERATIONS REACHED LIMIT.\n",
      "\n",
      "Increase the number of iterations (max_iter) or scale the data as shown in:\n",
      "    https://scikit-learn.org/stable/modules/preprocessing.html\n",
      "  self.n_iter_ = _check_optimize_result(\"lbfgs\", opt_res, self.max_iter)\n"
     ]
    },
    {
     "name": "stdout",
     "output_type": "stream",
     "text": [
      "Model Number: 205 with model WindowRegression in generation 3 of 5\n",
      "Model Number: 206 with model LastValueNaive in generation 3 of 5\n",
      "Model Number: 207 with model LastValueNaive in generation 3 of 5\n",
      "Model Number: 208 with model LastValueNaive in generation 3 of 5\n",
      "Model Number: 209 with model GLM in generation 3 of 5\n",
      "Model Number: 210 with model GLM in generation 3 of 5\n"
     ]
    },
    {
     "name": "stderr",
     "output_type": "stream",
     "text": [
      "/opt/anaconda3/lib/python3.8/site-packages/statsmodels/genmod/families/links.py:188: RuntimeWarning: overflow encountered in exp\n",
      "  t = np.exp(-z)\n",
      "/opt/anaconda3/lib/python3.8/site-packages/statsmodels/genmod/families/family.py:893: RuntimeWarning: divide by zero encountered in true_divide\n",
      "  endog_mu = self._clean(endog / mu)\n",
      "/opt/anaconda3/lib/python3.8/site-packages/statsmodels/genmod/families/family.py:894: RuntimeWarning: divide by zero encountered in true_divide\n",
      "  n_endog_mu = self._clean((1. - endog) / (1. - mu))\n",
      "/opt/anaconda3/lib/python3.8/site-packages/statsmodels/genmod/families/family.py:893: RuntimeWarning: divide by zero encountered in true_divide\n",
      "  endog_mu = self._clean(endog / mu)\n",
      "/opt/anaconda3/lib/python3.8/site-packages/sklearn/preprocessing/_data.py:3237: RuntimeWarning: divide by zero encountered in log\n",
      "  loglike = -n_samples / 2 * np.log(x_trans.var())\n",
      "/opt/anaconda3/lib/python3.8/site-packages/statsmodels/genmod/families/links.py:188: RuntimeWarning: overflow encountered in exp\n",
      "  t = np.exp(-z)\n",
      "/opt/anaconda3/lib/python3.8/site-packages/statsmodels/genmod/families/family.py:893: RuntimeWarning: divide by zero encountered in true_divide\n",
      "  endog_mu = self._clean(endog / mu)\n"
     ]
    },
    {
     "name": "stdout",
     "output_type": "stream",
     "text": [
      "Model Number: 211 with model GLM in generation 3 of 5\n",
      "Model Number: 212 with model GLM in generation 3 of 5\n",
      "Model Number: 213 with model DatepartRegression in generation 3 of 5\n",
      "Model Number: 214 with model DatepartRegression in generation 3 of 5\n"
     ]
    },
    {
     "name": "stderr",
     "output_type": "stream",
     "text": [
      "[Parallel(n_jobs=1)]: Using backend SequentialBackend with 1 concurrent workers.\n",
      "[Parallel(n_jobs=1)]: Done 1000 out of 1000 | elapsed:    0.6s finished\n",
      "[Parallel(n_jobs=1)]: Using backend SequentialBackend with 1 concurrent workers.\n",
      "[Parallel(n_jobs=1)]: Done 1000 out of 1000 | elapsed:    0.1s finished\n",
      "/opt/anaconda3/lib/python3.8/site-packages/sklearn/preprocessing/_data.py:3237: RuntimeWarning: divide by zero encountered in log\n",
      "  loglike = -n_samples / 2 * np.log(x_trans.var())\n"
     ]
    },
    {
     "name": "stdout",
     "output_type": "stream",
     "text": [
      "Model Number: 215 with model DatepartRegression in generation 3 of 5\n",
      "Template Eval Error: ModuleNotFoundError(\"No module named 'lightgbm'\") in model 215: DatepartRegression\n",
      "Model Number: 216 with model AverageValueNaive in generation 3 of 5\n",
      "Model Number: 217 with model AverageValueNaive in generation 3 of 5\n",
      "Model Number: 218 with model AverageValueNaive in generation 3 of 5\n",
      "Model Number: 219 with model RollingRegression in generation 3 of 5\n",
      "Model Number: 220 with model RollingRegression in generation 3 of 5\n",
      "Template Eval Error: ValueError(\"Input contains NaN, infinity or a value too large for dtype('float64').\") in model 220: RollingRegression\n",
      "Model Number: 221 with model RollingRegression in generation 3 of 5\n",
      "Model Number: 222 with model RollingRegression in generation 3 of 5\n",
      "Model Number: 223 with model GluonTS in generation 3 of 5\n",
      "Template Eval Error: ImportError('GluonTS installation not found or installed version is incompatible with AutoTS.') in model 223: GluonTS\n",
      "Model Number: 224 with model GluonTS in generation 3 of 5\n",
      "Template Eval Error: ImportError('GluonTS installation not found or installed version is incompatible with AutoTS.') in model 224: GluonTS\n",
      "Model Number: 225 with model GluonTS in generation 3 of 5\n",
      "Template Eval Error: ImportError('GluonTS installation not found or installed version is incompatible with AutoTS.') in model 225: GluonTS\n",
      "Model Number: 226 with model GluonTS in generation 3 of 5\n",
      "Template Eval Error: ImportError('GluonTS installation not found or installed version is incompatible with AutoTS.') in model 226: GluonTS\n",
      "Model Number: 227 with model VAR in generation 3 of 5\n",
      "Template Eval Error: LinAlgError('6-th leading minor of the array is not positive definite') in model 227: VAR\n",
      "Model Number: 228 with model VAR in generation 3 of 5\n",
      "Template Eval Error: LinAlgError('6-th leading minor of the array is not positive definite') in model 228: VAR\n",
      "Model Number: 229 with model VAR in generation 3 of 5\n",
      "Template Eval Error: LinAlgError('6-th leading minor of the array is not positive definite') in model 229: VAR\n",
      "Model Number: 230 with model VAR in generation 3 of 5\n",
      "Template Eval Error: LinAlgError('6-th leading minor of the array is not positive definite') in model 230: VAR\n",
      "Model Number: 231 with model VECM in generation 3 of 5\n",
      "Template Eval Error: LinAlgError('Singular matrix') in model 231: VECM\n",
      "Model Number: 232 with model VECM in generation 3 of 5\n",
      "Template Eval Error: LinAlgError('Singular matrix') in model 232: VECM\n",
      "Model Number: 233 with model VECM in generation 3 of 5\n",
      "Template Eval Error: LinAlgError('Singular matrix') in model 233: VECM\n",
      "Model Number: 234 with model VECM in generation 3 of 5\n"
     ]
    },
    {
     "name": "stderr",
     "output_type": "stream",
     "text": [
      "/opt/anaconda3/lib/python3.8/site-packages/sklearn/preprocessing/_data.py:3237: RuntimeWarning: divide by zero encountered in log\n",
      "  loglike = -n_samples / 2 * np.log(x_trans.var())\n",
      "/opt/anaconda3/lib/python3.8/site-packages/sklearn/preprocessing/_data.py:3237: RuntimeWarning: divide by zero encountered in log\n",
      "  loglike = -n_samples / 2 * np.log(x_trans.var())\n"
     ]
    },
    {
     "name": "stdout",
     "output_type": "stream",
     "text": [
      "Template Eval Error: LinAlgError('Singular matrix') in model 234: VECM\n",
      "Model Number: 235 with model FBProphet in generation 3 of 5\n",
      "Template Eval Error: ImportError('Package fbprophet is required') in model 235: FBProphet\n",
      "Model Number: 236 with model FBProphet in generation 3 of 5\n",
      "Template Eval Error: ImportError('Package fbprophet is required') in model 236: FBProphet\n",
      "Model Number: 237 with model FBProphet in generation 3 of 5\n",
      "Template Eval Error: ImportError('Package fbprophet is required') in model 237: FBProphet\n",
      "New Generation: 4 of 5\n",
      "Model Number: 238 with model SeasonalNaive in generation 4 of 5\n",
      "Model Number: 239 with model SeasonalNaive in generation 4 of 5\n"
     ]
    },
    {
     "name": "stderr",
     "output_type": "stream",
     "text": [
      "/opt/anaconda3/lib/python3.8/site-packages/autots/models/sklearn.py:429: VisibleDeprecationWarning: Creating an ndarray from ragged nested sequences (which is a list-or-tuple of lists-or-tuples-or ndarrays with different lengths or shapes) is deprecated. If you meant to do this, you must specify 'dtype=object' when creating the ndarray.\n",
      "  \"hidden_layer_sizes\": np.random.choice(\n",
      "/opt/anaconda3/lib/python3.8/site-packages/sklearn/preprocessing/_data.py:3237: RuntimeWarning: divide by zero encountered in log\n",
      "  loglike = -n_samples / 2 * np.log(x_trans.var())\n",
      "/opt/anaconda3/lib/python3.8/site-packages/sklearn/preprocessing/_data.py:3179: RuntimeWarning: divide by zero encountered in power\n",
      "  x_inv[pos] = np.power(x[pos] * lmbda + 1, 1 / lmbda) - 1\n",
      "/opt/anaconda3/lib/python3.8/site-packages/sklearn/preprocessing/_data.py:3179: RuntimeWarning: divide by zero encountered in power\n",
      "  x_inv[pos] = np.power(x[pos] * lmbda + 1, 1 / lmbda) - 1\n",
      "/opt/anaconda3/lib/python3.8/site-packages/sklearn/preprocessing/_data.py:3179: RuntimeWarning: divide by zero encountered in power\n",
      "  x_inv[pos] = np.power(x[pos] * lmbda + 1, 1 / lmbda) - 1\n"
     ]
    },
    {
     "name": "stdout",
     "output_type": "stream",
     "text": [
      "Model Number: 240 with model SeasonalNaive in generation 4 of 5\n",
      "Model Number: 241 with model SeasonalNaive in generation 4 of 5\n",
      "Model Number: 242 with model UnobservedComponents in generation 4 of 5\n",
      "Model Number: 243 with model UnobservedComponents in generation 4 of 5\n",
      "Model Number: 244 with model UnobservedComponents in generation 4 of 5\n",
      "Model Number: 245 with model ETS in generation 4 of 5\n"
     ]
    },
    {
     "name": "stderr",
     "output_type": "stream",
     "text": [
      "/opt/anaconda3/lib/python3.8/site-packages/statsmodels/tsa/holtwinters.py:956: RuntimeWarning: divide by zero encountered in log\n",
      "  aic = self.nobs * np.log(sse / self.nobs) + k * 2\n",
      "/opt/anaconda3/lib/python3.8/site-packages/statsmodels/tsa/holtwinters.py:962: RuntimeWarning: divide by zero encountered in log\n",
      "  bic = self.nobs * np.log(sse / self.nobs) + k * np.log(self.nobs)\n",
      "/opt/anaconda3/lib/python3.8/site-packages/statsmodels/tsa/holtwinters.py:956: RuntimeWarning: divide by zero encountered in log\n",
      "  aic = self.nobs * np.log(sse / self.nobs) + k * 2\n",
      "/opt/anaconda3/lib/python3.8/site-packages/statsmodels/tsa/holtwinters.py:962: RuntimeWarning: divide by zero encountered in log\n",
      "  bic = self.nobs * np.log(sse / self.nobs) + k * np.log(self.nobs)\n"
     ]
    },
    {
     "name": "stdout",
     "output_type": "stream",
     "text": [
      "Model Number: 246 with model ETS in generation 4 of 5\n",
      "Model Number: 247 with model ETS in generation 4 of 5\n",
      "Model Number: 248 with model ETS in generation 4 of 5\n",
      "Model Number: 249 with model GLS in generation 4 of 5\n",
      "Model Number: 250 with model GLS in generation 4 of 5\n",
      "Model Number: 251 with model GLS in generation 4 of 5\n",
      "Model Number: 252 with model RollingRegression in generation 4 of 5\n",
      "Model Number: 253 with model RollingRegression in generation 4 of 5\n",
      "Model Number: 254 with model RollingRegression in generation 4 of 5\n",
      "Model Number: 255 with model RollingRegression in generation 4 of 5\n",
      "Model Number: 256 with model ZeroesNaive in generation 4 of 5\n",
      "Model Number: 257 with model ZeroesNaive in generation 4 of 5\n",
      "Model Number: 258 with model ZeroesNaive in generation 4 of 5\n",
      "Model Number: 259 with model WindowRegression in generation 4 of 5\n",
      "Template Eval Error: ValueError(\"Input contains NaN, infinity or a value too large for dtype('float64').\") in model 259: WindowRegression\n",
      "Model Number: 260 with model WindowRegression in generation 4 of 5\n",
      "Model Number: 261 with model WindowRegression in generation 4 of 5\n"
     ]
    },
    {
     "name": "stderr",
     "output_type": "stream",
     "text": [
      "/opt/anaconda3/lib/python3.8/site-packages/sklearn/neural_network/_multilayer_perceptron.py:500: ConvergenceWarning: lbfgs failed to converge (status=1):\n",
      "STOP: TOTAL NO. of ITERATIONS REACHED LIMIT.\n",
      "\n",
      "Increase the number of iterations (max_iter) or scale the data as shown in:\n",
      "    https://scikit-learn.org/stable/modules/preprocessing.html\n",
      "  self.n_iter_ = _check_optimize_result(\"lbfgs\", opt_res, self.max_iter)\n"
     ]
    },
    {
     "name": "stdout",
     "output_type": "stream",
     "text": [
      "Model Number: 262 with model WindowRegression in generation 4 of 5\n",
      "Model Number: 263 with model LastValueNaive in generation 4 of 5\n",
      "Model Number: 264 with model LastValueNaive in generation 4 of 5\n",
      "Model Number: 265 with model LastValueNaive in generation 4 of 5\n",
      "Model Number: 266 with model GLM in generation 4 of 5\n",
      "Template Eval Error: ValueError('The first guess on the deviance function returned a nan.  This could be a boundary  problem and should be reported.') in model 266: GLM\n",
      "Model Number: 267 with model GLM in generation 4 of 5\n",
      "Template Eval Error: ValueError('The first guess on the deviance function returned a nan.  This could be a boundary  problem and should be reported.') in model 267: GLM\n",
      "Model Number: 268 with model GLM in generation 4 of 5\n"
     ]
    },
    {
     "name": "stderr",
     "output_type": "stream",
     "text": [
      "/opt/anaconda3/lib/python3.8/site-packages/scipy/optimize/minpack.py:828: OptimizeWarning: Covariance of the parameters could not be estimated\n",
      "  warnings.warn('Covariance of the parameters could not be estimated',\n",
      "/opt/anaconda3/lib/python3.8/site-packages/sklearn/preprocessing/_data.py:3237: RuntimeWarning: divide by zero encountered in log\n",
      "  loglike = -n_samples / 2 * np.log(x_trans.var())\n",
      "/opt/anaconda3/lib/python3.8/site-packages/statsmodels/genmod/families/family.py:1230: RuntimeWarning: invalid value encountered in log\n",
      "  resid_dev -= endog_alpha * np.log(endog_alpha / mu_alpha)\n",
      "/opt/anaconda3/lib/python3.8/site-packages/statsmodels/genmod/families/family.py:179: RuntimeWarning: invalid value encountered in true_divide\n",
      "  return np.sum(resid_dev * freq_weights * var_weights / scale)\n",
      "/opt/anaconda3/lib/python3.8/site-packages/sklearn/preprocessing/_data.py:3237: RuntimeWarning: divide by zero encountered in log\n",
      "  loglike = -n_samples / 2 * np.log(x_trans.var())\n",
      "/opt/anaconda3/lib/python3.8/site-packages/statsmodels/genmod/families/links.py:188: RuntimeWarning: overflow encountered in exp\n",
      "  t = np.exp(-z)\n",
      "/opt/anaconda3/lib/python3.8/site-packages/statsmodels/genmod/families/family.py:893: RuntimeWarning: divide by zero encountered in true_divide\n",
      "  endog_mu = self._clean(endog / mu)\n",
      "/opt/anaconda3/lib/python3.8/site-packages/sklearn/preprocessing/_data.py:3237: RuntimeWarning: divide by zero encountered in log\n",
      "  loglike = -n_samples / 2 * np.log(x_trans.var())\n",
      "/opt/anaconda3/lib/python3.8/site-packages/statsmodels/genmod/families/family.py:1443: RuntimeWarning: invalid value encountered in log\n",
      "  endog * np.log(endog / mu) + (mu - endog))\n"
     ]
    },
    {
     "name": "stdout",
     "output_type": "stream",
     "text": [
      "Model Number: 269 with model GLM in generation 4 of 5\n",
      "Template Eval Error: ValueError('The first guess on the deviance function returned a nan.  This could be a boundary  problem and should be reported.') in model 269: GLM\n",
      "Model Number: 270 with model DatepartRegression in generation 4 of 5\n"
     ]
    },
    {
     "name": "stderr",
     "output_type": "stream",
     "text": [
      "/opt/anaconda3/lib/python3.8/site-packages/statsmodels/genmod/families/family.py:179: RuntimeWarning: invalid value encountered in true_divide\n",
      "  return np.sum(resid_dev * freq_weights * var_weights / scale)\n"
     ]
    },
    {
     "name": "stdout",
     "output_type": "stream",
     "text": [
      "Model Number: 271 with model DatepartRegression in generation 4 of 5\n",
      "Template Eval Error: ImportError('Tensorflow not available, install with pip install tensorflow.') in model 271: DatepartRegression\n",
      "Model Number: 272 with model DatepartRegression in generation 4 of 5\n",
      "Model Number: 273 with model AverageValueNaive in generation 4 of 5\n",
      "Model Number: 274 with model AverageValueNaive in generation 4 of 5\n",
      "Model Number: 275 with model AverageValueNaive in generation 4 of 5\n",
      "Model Number: 276 with model GluonTS in generation 4 of 5\n",
      "Template Eval Error: ImportError('GluonTS installation not found or installed version is incompatible with AutoTS.') in model 276: GluonTS\n",
      "Model Number: 277 with model GluonTS in generation 4 of 5\n",
      "Template Eval Error: ImportError('GluonTS installation not found or installed version is incompatible with AutoTS.') in model 277: GluonTS\n",
      "Model Number: 278 with model GluonTS in generation 4 of 5\n",
      "Template Eval Error: ImportError('GluonTS installation not found or installed version is incompatible with AutoTS.') in model 278: GluonTS\n",
      "Model Number: 279 with model GluonTS in generation 4 of 5\n"
     ]
    },
    {
     "name": "stderr",
     "output_type": "stream",
     "text": [
      "/opt/anaconda3/lib/python3.8/site-packages/sklearn/preprocessing/_data.py:3237: RuntimeWarning: divide by zero encountered in log\n",
      "  loglike = -n_samples / 2 * np.log(x_trans.var())\n",
      "/opt/anaconda3/lib/python3.8/site-packages/sklearn/preprocessing/_data.py:3237: RuntimeWarning: divide by zero encountered in log\n",
      "  loglike = -n_samples / 2 * np.log(x_trans.var())\n",
      "/opt/anaconda3/lib/python3.8/site-packages/sklearn/preprocessing/_data.py:3237: RuntimeWarning: divide by zero encountered in log\n",
      "  loglike = -n_samples / 2 * np.log(x_trans.var())\n",
      "/opt/anaconda3/lib/python3.8/site-packages/sklearn/preprocessing/_data.py:3237: RuntimeWarning: divide by zero encountered in log\n",
      "  loglike = -n_samples / 2 * np.log(x_trans.var())\n",
      "/opt/anaconda3/lib/python3.8/site-packages/sklearn/preprocessing/_data.py:3237: RuntimeWarning: divide by zero encountered in log\n",
      "  loglike = -n_samples / 2 * np.log(x_trans.var())\n"
     ]
    },
    {
     "name": "stdout",
     "output_type": "stream",
     "text": [
      "Template Eval Error: ImportError('GluonTS installation not found or installed version is incompatible with AutoTS.') in model 279: GluonTS\n",
      "Model Number: 280 with model VAR in generation 4 of 5\n",
      "Template Eval Error: LinAlgError('6-th leading minor of the array is not positive definite') in model 280: VAR\n",
      "Model Number: 281 with model VAR in generation 4 of 5\n",
      "Template Eval Error: LinAlgError('6-th leading minor of the array is not positive definite') in model 281: VAR\n",
      "Model Number: 282 with model VAR in generation 4 of 5\n",
      "Template Eval Error: LinAlgError('6-th leading minor of the array is not positive definite') in model 282: VAR\n",
      "Model Number: 283 with model VAR in generation 4 of 5\n",
      "Template Eval Error: LinAlgError('6-th leading minor of the array is not positive definite') in model 283: VAR\n",
      "Model Number: 284 with model VECM in generation 4 of 5\n",
      "Template Eval Error: LinAlgError('Singular matrix') in model 284: VECM\n",
      "Model Number: 285 with model VECM in generation 4 of 5\n",
      "Template Eval Error: LinAlgError('Singular matrix') in model 285: VECM\n",
      "Model Number: 286 with model VECM in generation 4 of 5\n",
      "Template Eval Error: LinAlgError('Singular matrix') in model 286: VECM\n",
      "Model Number: 287 with model VECM in generation 4 of 5\n",
      "Template Eval Error: LinAlgError('Singular matrix') in model 287: VECM\n",
      "Model Number: 288 with model FBProphet in generation 4 of 5\n",
      "Template Eval Error: ImportError('Package fbprophet is required') in model 288: FBProphet\n",
      "Model Number: 289 with model FBProphet in generation 4 of 5\n",
      "Template Eval Error: ImportError('Package fbprophet is required') in model 289: FBProphet\n",
      "Model Number: 290 with model FBProphet in generation 4 of 5\n"
     ]
    },
    {
     "name": "stderr",
     "output_type": "stream",
     "text": [
      "/opt/anaconda3/lib/python3.8/site-packages/sklearn/preprocessing/_data.py:3237: RuntimeWarning: divide by zero encountered in log\n",
      "  loglike = -n_samples / 2 * np.log(x_trans.var())\n",
      "/opt/anaconda3/lib/python3.8/site-packages/autots/models/sklearn.py:366: VisibleDeprecationWarning: Creating an ndarray from ragged nested sequences (which is a list-or-tuple of lists-or-tuples-or ndarrays with different lengths or shapes) is deprecated. If you meant to do this, you must specify 'dtype=object' when creating the ndarray.\n",
      "  \"hidden_layer_sizes\": np.random.choice(\n"
     ]
    },
    {
     "name": "stdout",
     "output_type": "stream",
     "text": [
      "Template Eval Error: ImportError('Package fbprophet is required') in model 290: FBProphet\n",
      "Model Number: 291 with model FBProphet in generation 4 of 5\n",
      "Template Eval Error: ImportError('Package fbprophet is required') in model 291: FBProphet\n",
      "New Generation: 5 of 5\n",
      "Model Number: 292 with model SeasonalNaive in generation 5 of 5\n",
      "Model Number: 293 with model SeasonalNaive in generation 5 of 5\n",
      "Model Number: 294 with model SeasonalNaive in generation 5 of 5\n",
      "Model Number: 295 with model LastValueNaive in generation 5 of 5\n",
      "Model Number: 296 with model UnobservedComponents in generation 5 of 5\n",
      "Model Number: 297 with model UnobservedComponents in generation 5 of 5\n",
      "Model Number: 298 with model UnobservedComponents in generation 5 of 5\n"
     ]
    },
    {
     "name": "stderr",
     "output_type": "stream",
     "text": [
      "/opt/anaconda3/lib/python3.8/site-packages/sklearn/preprocessing/_data.py:3237: RuntimeWarning: divide by zero encountered in log\n",
      "  loglike = -n_samples / 2 * np.log(x_trans.var())\n"
     ]
    },
    {
     "name": "stdout",
     "output_type": "stream",
     "text": [
      "Model Number: 299 with model ETS in generation 5 of 5\n",
      "Model Number: 300 with model ETS in generation 5 of 5\n",
      "Model Number: 301 with model ETS in generation 5 of 5\n"
     ]
    },
    {
     "name": "stderr",
     "output_type": "stream",
     "text": [
      "/opt/anaconda3/lib/python3.8/site-packages/statsmodels/tsa/holtwinters.py:956: RuntimeWarning: divide by zero encountered in log\n",
      "  aic = self.nobs * np.log(sse / self.nobs) + k * 2\n",
      "/opt/anaconda3/lib/python3.8/site-packages/statsmodels/tsa/holtwinters.py:962: RuntimeWarning: divide by zero encountered in log\n",
      "  bic = self.nobs * np.log(sse / self.nobs) + k * np.log(self.nobs)\n",
      "/opt/anaconda3/lib/python3.8/site-packages/statsmodels/tsa/holtwinters.py:956: RuntimeWarning: divide by zero encountered in log\n",
      "  aic = self.nobs * np.log(sse / self.nobs) + k * 2\n",
      "/opt/anaconda3/lib/python3.8/site-packages/statsmodels/tsa/holtwinters.py:962: RuntimeWarning: divide by zero encountered in log\n",
      "  bic = self.nobs * np.log(sse / self.nobs) + k * np.log(self.nobs)\n"
     ]
    },
    {
     "name": "stdout",
     "output_type": "stream",
     "text": [
      "Model Number: 302 with model ETS in generation 5 of 5\n",
      "Model Number: 303 with model GLS in generation 5 of 5\n",
      "Model Number: 304 with model GLS in generation 5 of 5\n",
      "Model Number: 305 with model RollingRegression in generation 5 of 5\n"
     ]
    },
    {
     "name": "stderr",
     "output_type": "stream",
     "text": [
      "/opt/anaconda3/lib/python3.8/site-packages/sklearn/preprocessing/_data.py:3237: RuntimeWarning: divide by zero encountered in log\n",
      "  loglike = -n_samples / 2 * np.log(x_trans.var())\n",
      "/opt/anaconda3/lib/python3.8/site-packages/sklearn/preprocessing/_data.py:3179: RuntimeWarning: divide by zero encountered in power\n",
      "  x_inv[pos] = np.power(x[pos] * lmbda + 1, 1 / lmbda) - 1\n",
      "/opt/anaconda3/lib/python3.8/site-packages/sklearn/preprocessing/_data.py:3179: RuntimeWarning: divide by zero encountered in power\n",
      "  x_inv[pos] = np.power(x[pos] * lmbda + 1, 1 / lmbda) - 1\n",
      "/opt/anaconda3/lib/python3.8/site-packages/sklearn/preprocessing/_data.py:3179: RuntimeWarning: divide by zero encountered in power\n",
      "  x_inv[pos] = np.power(x[pos] * lmbda + 1, 1 / lmbda) - 1\n",
      "/opt/anaconda3/lib/python3.8/site-packages/sklearn/preprocessing/_data.py:3237: RuntimeWarning: divide by zero encountered in log\n",
      "  loglike = -n_samples / 2 * np.log(x_trans.var())\n",
      "/opt/anaconda3/lib/python3.8/site-packages/sklearn/preprocessing/_data.py:3179: RuntimeWarning: divide by zero encountered in power\n",
      "  x_inv[pos] = np.power(x[pos] * lmbda + 1, 1 / lmbda) - 1\n",
      "/opt/anaconda3/lib/python3.8/site-packages/sklearn/preprocessing/_data.py:3179: RuntimeWarning: divide by zero encountered in power\n",
      "  x_inv[pos] = np.power(x[pos] * lmbda + 1, 1 / lmbda) - 1\n",
      "/opt/anaconda3/lib/python3.8/site-packages/sklearn/preprocessing/_data.py:3179: RuntimeWarning: divide by zero encountered in power\n",
      "  x_inv[pos] = np.power(x[pos] * lmbda + 1, 1 / lmbda) - 1\n"
     ]
    },
    {
     "name": "stdout",
     "output_type": "stream",
     "text": [
      "Model Number: 306 with model RollingRegression in generation 5 of 5\n",
      "Model Number: 307 with model RollingRegression in generation 5 of 5\n",
      "Model Number: 308 with model RollingRegression in generation 5 of 5\n",
      "Model Number: 309 with model ZeroesNaive in generation 5 of 5\n",
      "Model Number: 310 with model ZeroesNaive in generation 5 of 5\n",
      "Model Number: 311 with model ZeroesNaive in generation 5 of 5\n",
      "Model Number: 312 with model WindowRegression in generation 5 of 5\n"
     ]
    },
    {
     "name": "stderr",
     "output_type": "stream",
     "text": [
      "/opt/anaconda3/lib/python3.8/site-packages/sklearn/preprocessing/_data.py:3237: RuntimeWarning: divide by zero encountered in log\n",
      "  loglike = -n_samples / 2 * np.log(x_trans.var())\n",
      "/opt/anaconda3/lib/python3.8/site-packages/sklearn/preprocessing/_data.py:3179: RuntimeWarning: divide by zero encountered in power\n",
      "  x_inv[pos] = np.power(x[pos] * lmbda + 1, 1 / lmbda) - 1\n",
      "/opt/anaconda3/lib/python3.8/site-packages/sklearn/preprocessing/_data.py:3179: RuntimeWarning: divide by zero encountered in power\n",
      "  x_inv[pos] = np.power(x[pos] * lmbda + 1, 1 / lmbda) - 1\n",
      "/opt/anaconda3/lib/python3.8/site-packages/sklearn/preprocessing/_data.py:3179: RuntimeWarning: divide by zero encountered in power\n",
      "  x_inv[pos] = np.power(x[pos] * lmbda + 1, 1 / lmbda) - 1\n",
      "/opt/anaconda3/lib/python3.8/site-packages/sklearn/preprocessing/_data.py:3237: RuntimeWarning: divide by zero encountered in log\n",
      "  loglike = -n_samples / 2 * np.log(x_trans.var())\n",
      "/opt/anaconda3/lib/python3.8/site-packages/sklearn/utils/validation.py:63: DataConversionWarning: A column-vector y was passed when a 1d array was expected. Please change the shape of y to (n_samples, ), for example using ravel().\n",
      "  return f(*args, **kwargs)\n",
      "/opt/anaconda3/lib/python3.8/site-packages/sklearn/neural_network/_multilayer_perceptron.py:500: ConvergenceWarning: lbfgs failed to converge (status=1):\n",
      "STOP: TOTAL NO. of ITERATIONS REACHED LIMIT.\n",
      "\n",
      "Increase the number of iterations (max_iter) or scale the data as shown in:\n",
      "    https://scikit-learn.org/stable/modules/preprocessing.html\n",
      "  self.n_iter_ = _check_optimize_result(\"lbfgs\", opt_res, self.max_iter)\n",
      "/opt/anaconda3/lib/python3.8/site-packages/sklearn/preprocessing/_data.py:3237: RuntimeWarning: divide by zero encountered in log\n",
      "  loglike = -n_samples / 2 * np.log(x_trans.var())\n"
     ]
    },
    {
     "name": "stdout",
     "output_type": "stream",
     "text": [
      "Template Eval Error: ValueError(\"Input contains NaN, infinity or a value too large for dtype('float64').\") in model 312: WindowRegression\n",
      "Model Number: 313 with model WindowRegression in generation 5 of 5\n",
      "Template Eval Error: ValueError(\"Input contains NaN, infinity or a value too large for dtype('float64').\") in model 313: WindowRegression\n",
      "Model Number: 314 with model WindowRegression in generation 5 of 5\n"
     ]
    },
    {
     "name": "stderr",
     "output_type": "stream",
     "text": [
      "/opt/anaconda3/lib/python3.8/site-packages/sklearn/neural_network/_multilayer_perceptron.py:500: ConvergenceWarning: lbfgs failed to converge (status=1):\n",
      "STOP: TOTAL NO. of ITERATIONS REACHED LIMIT.\n",
      "\n",
      "Increase the number of iterations (max_iter) or scale the data as shown in:\n",
      "    https://scikit-learn.org/stable/modules/preprocessing.html\n",
      "  self.n_iter_ = _check_optimize_result(\"lbfgs\", opt_res, self.max_iter)\n",
      "/opt/anaconda3/lib/python3.8/site-packages/sklearn/preprocessing/_data.py:3237: RuntimeWarning: divide by zero encountered in log\n",
      "  loglike = -n_samples / 2 * np.log(x_trans.var())\n"
     ]
    },
    {
     "name": "stdout",
     "output_type": "stream",
     "text": [
      "Model Number: 315 with model WindowRegression in generation 5 of 5\n"
     ]
    },
    {
     "name": "stderr",
     "output_type": "stream",
     "text": [
      "/opt/anaconda3/lib/python3.8/site-packages/sklearn/neural_network/_multilayer_perceptron.py:500: ConvergenceWarning: lbfgs failed to converge (status=1):\n",
      "STOP: TOTAL NO. of ITERATIONS REACHED LIMIT.\n",
      "\n",
      "Increase the number of iterations (max_iter) or scale the data as shown in:\n",
      "    https://scikit-learn.org/stable/modules/preprocessing.html\n",
      "  self.n_iter_ = _check_optimize_result(\"lbfgs\", opt_res, self.max_iter)\n",
      "/opt/anaconda3/lib/python3.8/site-packages/sklearn/preprocessing/_data.py:3237: RuntimeWarning: divide by zero encountered in log\n",
      "  loglike = -n_samples / 2 * np.log(x_trans.var())\n",
      "/opt/anaconda3/lib/python3.8/site-packages/statsmodels/genmod/families/links.py:188: RuntimeWarning: overflow encountered in exp\n",
      "  t = np.exp(-z)\n",
      "/opt/anaconda3/lib/python3.8/site-packages/statsmodels/genmod/families/family.py:893: RuntimeWarning: divide by zero encountered in true_divide\n",
      "  endog_mu = self._clean(endog / mu)\n",
      "/opt/anaconda3/lib/python3.8/site-packages/sklearn/preprocessing/_data.py:3237: RuntimeWarning: divide by zero encountered in log\n",
      "  loglike = -n_samples / 2 * np.log(x_trans.var())\n"
     ]
    },
    {
     "name": "stdout",
     "output_type": "stream",
     "text": [
      "Model Number: 316 with model GLM in generation 5 of 5\n",
      "Model Number: 317 with model GLM in generation 5 of 5\n",
      "Model Number: 318 with model GLM in generation 5 of 5\n"
     ]
    },
    {
     "name": "stderr",
     "output_type": "stream",
     "text": [
      "/opt/anaconda3/lib/python3.8/site-packages/statsmodels/genmod/families/links.py:188: RuntimeWarning: overflow encountered in exp\n",
      "  t = np.exp(-z)\n",
      "/opt/anaconda3/lib/python3.8/site-packages/statsmodels/genmod/families/family.py:893: RuntimeWarning: divide by zero encountered in true_divide\n",
      "  endog_mu = self._clean(endog / mu)\n"
     ]
    },
    {
     "name": "stdout",
     "output_type": "stream",
     "text": [
      "Model Number: 319 with model GLM in generation 5 of 5\n",
      "Model Number: 320 with model DatepartRegression in generation 5 of 5\n",
      "Model Number: 321 with model DatepartRegression in generation 5 of 5\n",
      "Model Number: 322 with model DatepartRegression in generation 5 of 5\n",
      "Model Number: 323 with model AverageValueNaive in generation 5 of 5\n",
      "Model Number: 324 with model AverageValueNaive in generation 5 of 5\n",
      "Model Number: 325 with model AverageValueNaive in generation 5 of 5\n",
      "Model Number: 326 with model GluonTS in generation 5 of 5\n",
      "Template Eval Error: ImportError('GluonTS installation not found or installed version is incompatible with AutoTS.') in model 326: GluonTS\n",
      "Model Number: 327 with model GluonTS in generation 5 of 5\n",
      "Template Eval Error: ImportError('GluonTS installation not found or installed version is incompatible with AutoTS.') in model 327: GluonTS\n",
      "Model Number: 328 with model GluonTS in generation 5 of 5\n",
      "Template Eval Error: ImportError('GluonTS installation not found or installed version is incompatible with AutoTS.') in model 328: GluonTS\n",
      "Model Number: 329 with model GluonTS in generation 5 of 5\n",
      "Template Eval Error: ImportError('GluonTS installation not found or installed version is incompatible with AutoTS.') in model 329: GluonTS\n",
      "Model Number: 330 with model VAR in generation 5 of 5\n",
      "Template Eval Error: LinAlgError('6-th leading minor of the array is not positive definite') in model 330: VAR\n",
      "Model Number: 331 with model VAR in generation 5 of 5\n",
      "Template Eval Error: LinAlgError('6-th leading minor of the array is not positive definite') in model 331: VAR\n",
      "Model Number: 332 with model VAR in generation 5 of 5\n",
      "Template Eval Error: LinAlgError('6-th leading minor of the array is not positive definite') in model 332: VAR\n",
      "Model Number: 333 with model VAR in generation 5 of 5\n",
      "Template Eval Error: LinAlgError('6-th leading minor of the array is not positive definite') in model 333: VAR\n",
      "Model Number: 334 with model VECM in generation 5 of 5\n",
      "Template Eval Error: LinAlgError('Singular matrix') in model 334: VECM\n",
      "Model Number: 335 with model VECM in generation 5 of 5\n",
      "Template Eval Error: LinAlgError('Singular matrix') in model 335: VECM\n",
      "Model Number: 336 with model VECM in generation 5 of 5\n"
     ]
    },
    {
     "name": "stderr",
     "output_type": "stream",
     "text": [
      "/opt/anaconda3/lib/python3.8/site-packages/sklearn/preprocessing/_data.py:3237: RuntimeWarning: divide by zero encountered in log\n",
      "  loglike = -n_samples / 2 * np.log(x_trans.var())\n",
      "/opt/anaconda3/lib/python3.8/site-packages/sklearn/preprocessing/_data.py:3237: RuntimeWarning: divide by zero encountered in log\n",
      "  loglike = -n_samples / 2 * np.log(x_trans.var())\n",
      "/opt/anaconda3/lib/python3.8/site-packages/sklearn/preprocessing/_data.py:3237: RuntimeWarning: divide by zero encountered in log\n",
      "  loglike = -n_samples / 2 * np.log(x_trans.var())\n"
     ]
    },
    {
     "name": "stdout",
     "output_type": "stream",
     "text": [
      "Template Eval Error: LinAlgError('Singular matrix') in model 336: VECM\n",
      "Model Number: 337 with model VECM in generation 5 of 5\n",
      "Template Eval Error: LinAlgError('Singular matrix') in model 337: VECM\n",
      "Model Number: 338 with model FBProphet in generation 5 of 5\n",
      "Template Eval Error: ImportError('Package fbprophet is required') in model 338: FBProphet\n",
      "Model Number: 339 with model FBProphet in generation 5 of 5\n",
      "Template Eval Error: ImportError('Package fbprophet is required') in model 339: FBProphet\n",
      "Model Number: 340 with model FBProphet in generation 5 of 5\n",
      "Template Eval Error: ImportError('Package fbprophet is required') in model 340: FBProphet\n",
      "Model Number: 341 with model Ensemble in generation 0 of 0\n",
      "Model Number: 342 with model Ensemble in generation 0 of 0\n",
      "Model Number: 343 with model Ensemble in generation 0 of 0\n",
      "Validation Round: 1\n",
      "Model Number: 1 of 52 with model SeasonalNaive for Validation 1\n",
      "Model Number: 2 of 52 with model Ensemble for Validation 1\n",
      "Model Number: 3 of 52 with model Ensemble for Validation 1\n",
      "Model Number: 4 of 52 with model LastValueNaive for Validation 1\n",
      "Model Number: 5 of 52 with model UnobservedComponents for Validation 1\n",
      "Model Number: 6 of 52 with model UnobservedComponents for Validation 1\n",
      "Model Number: 7 of 52 with model UnobservedComponents for Validation 1\n",
      "Model Number: 8 of 52 with model UnobservedComponents for Validation 1\n",
      "Model Number: 9 of 52 with model ETS for Validation 1\n",
      "Model Number: 10 of 52 with model SeasonalNaive for Validation 1\n",
      "Model Number: 11 of 52 with model SeasonalNaive for Validation 1\n",
      "Model Number: 12 of 52 with model GLS for Validation 1\n"
     ]
    },
    {
     "name": "stderr",
     "output_type": "stream",
     "text": [
      "/opt/anaconda3/lib/python3.8/site-packages/statsmodels/tsa/holtwinters.py:956: RuntimeWarning: divide by zero encountered in log\n",
      "  aic = self.nobs * np.log(sse / self.nobs) + k * 2\n",
      "/opt/anaconda3/lib/python3.8/site-packages/statsmodels/tsa/holtwinters.py:962: RuntimeWarning: divide by zero encountered in log\n",
      "  bic = self.nobs * np.log(sse / self.nobs) + k * np.log(self.nobs)\n"
     ]
    },
    {
     "name": "stdout",
     "output_type": "stream",
     "text": [
      "Model Number: 13 of 52 with model SeasonalNaive for Validation 1\n",
      "Model Number: 14 of 52 with model RollingRegression for Validation 1\n",
      "Model Number: 15 of 52 with model SeasonalNaive for Validation 1\n",
      "Model Number: 16 of 52 with model RollingRegression for Validation 1\n",
      "Model Number: 17 of 52 with model RollingRegression for Validation 1\n",
      "Model Number: 18 of 52 with model RollingRegression for Validation 1\n",
      "Model Number: 19 of 52 with model RollingRegression for Validation 1\n",
      "Model Number: 20 of 52 with model UnobservedComponents for Validation 1\n",
      "Model Number: 21 of 52 with model GLS for Validation 1\n",
      "Model Number: 22 of 52 with model GLS for Validation 1\n",
      "Model Number: 23 of 52 with model ZeroesNaive for Validation 1\n",
      "Model Number: 24 of 52 with model WindowRegression for Validation 1\n"
     ]
    },
    {
     "name": "stderr",
     "output_type": "stream",
     "text": [
      "/opt/anaconda3/lib/python3.8/site-packages/sklearn/neural_network/_multilayer_perceptron.py:500: ConvergenceWarning: lbfgs failed to converge (status=1):\n",
      "STOP: TOTAL NO. of ITERATIONS REACHED LIMIT.\n",
      "\n",
      "Increase the number of iterations (max_iter) or scale the data as shown in:\n",
      "    https://scikit-learn.org/stable/modules/preprocessing.html\n",
      "  self.n_iter_ = _check_optimize_result(\"lbfgs\", opt_res, self.max_iter)\n",
      "/opt/anaconda3/lib/python3.8/site-packages/statsmodels/tsa/holtwinters.py:956: RuntimeWarning: divide by zero encountered in log\n",
      "  aic = self.nobs * np.log(sse / self.nobs) + k * 2\n",
      "/opt/anaconda3/lib/python3.8/site-packages/statsmodels/tsa/holtwinters.py:962: RuntimeWarning: divide by zero encountered in log\n",
      "  bic = self.nobs * np.log(sse / self.nobs) + k * np.log(self.nobs)\n",
      "/opt/anaconda3/lib/python3.8/site-packages/sklearn/preprocessing/_data.py:3237: RuntimeWarning: divide by zero encountered in log\n",
      "  loglike = -n_samples / 2 * np.log(x_trans.var())\n",
      "/opt/anaconda3/lib/python3.8/site-packages/statsmodels/genmod/families/links.py:188: RuntimeWarning: overflow encountered in exp\n",
      "  t = np.exp(-z)\n",
      "/opt/anaconda3/lib/python3.8/site-packages/statsmodels/genmod/families/family.py:893: RuntimeWarning: divide by zero encountered in true_divide\n",
      "  endog_mu = self._clean(endog / mu)\n"
     ]
    },
    {
     "name": "stdout",
     "output_type": "stream",
     "text": [
      "Model Number: 25 of 52 with model ETS for Validation 1\n",
      "Model Number: 26 of 52 with model LastValueNaive for Validation 1\n",
      "Model Number: 27 of 52 with model GLM for Validation 1\n",
      "Model Number: 28 of 52 with model ETS for Validation 1\n"
     ]
    },
    {
     "name": "stderr",
     "output_type": "stream",
     "text": [
      "/opt/anaconda3/lib/python3.8/site-packages/statsmodels/tsa/holtwinters.py:743: ConvergenceWarning: Optimization failed to converge. Check mle_retvals.\n",
      "  warn(\"Optimization failed to converge. Check mle_retvals.\",\n",
      "/opt/anaconda3/lib/python3.8/site-packages/statsmodels/tsa/holtwinters.py:743: ConvergenceWarning: Optimization failed to converge. Check mle_retvals.\n",
      "  warn(\"Optimization failed to converge. Check mle_retvals.\",\n",
      "/opt/anaconda3/lib/python3.8/site-packages/statsmodels/tsa/holtwinters.py:743: ConvergenceWarning: Optimization failed to converge. Check mle_retvals.\n",
      "  warn(\"Optimization failed to converge. Check mle_retvals.\",\n"
     ]
    },
    {
     "name": "stdout",
     "output_type": "stream",
     "text": [
      "Model Number: 29 of 52 with model DatepartRegression for Validation 1\n"
     ]
    },
    {
     "name": "stderr",
     "output_type": "stream",
     "text": [
      "/opt/anaconda3/lib/python3.8/site-packages/sklearn/neural_network/_multilayer_perceptron.py:500: ConvergenceWarning: lbfgs failed to converge (status=1):\n",
      "STOP: TOTAL NO. of ITERATIONS REACHED LIMIT.\n",
      "\n",
      "Increase the number of iterations (max_iter) or scale the data as shown in:\n",
      "    https://scikit-learn.org/stable/modules/preprocessing.html\n",
      "  self.n_iter_ = _check_optimize_result(\"lbfgs\", opt_res, self.max_iter)\n"
     ]
    },
    {
     "name": "stdout",
     "output_type": "stream",
     "text": [
      "Model Number: 30 of 52 with model WindowRegression for Validation 1\n",
      "Model Number: 31 of 52 with model WindowRegression for Validation 1\n",
      "Model Number: 32 of 52 with model ETS for Validation 1\n",
      "Model Number: 33 of 52 with model LastValueNaive for Validation 1\n",
      "Model Number: 34 of 52 with model GLM for Validation 1\n"
     ]
    },
    {
     "name": "stderr",
     "output_type": "stream",
     "text": [
      "/opt/anaconda3/lib/python3.8/site-packages/sklearn/preprocessing/_data.py:3237: RuntimeWarning: divide by zero encountered in log\n",
      "  loglike = -n_samples / 2 * np.log(x_trans.var())\n",
      "/opt/anaconda3/lib/python3.8/site-packages/statsmodels/tsa/holtwinters.py:956: RuntimeWarning: divide by zero encountered in log\n",
      "  aic = self.nobs * np.log(sse / self.nobs) + k * 2\n",
      "/opt/anaconda3/lib/python3.8/site-packages/statsmodels/tsa/holtwinters.py:962: RuntimeWarning: divide by zero encountered in log\n",
      "  bic = self.nobs * np.log(sse / self.nobs) + k * np.log(self.nobs)\n",
      "/opt/anaconda3/lib/python3.8/site-packages/scipy/optimize/minpack.py:828: OptimizeWarning: Covariance of the parameters could not be estimated\n",
      "  warnings.warn('Covariance of the parameters could not be estimated',\n",
      "/opt/anaconda3/lib/python3.8/site-packages/sklearn/preprocessing/_data.py:3237: RuntimeWarning: divide by zero encountered in log\n",
      "  loglike = -n_samples / 2 * np.log(x_trans.var())\n",
      "/opt/anaconda3/lib/python3.8/site-packages/statsmodels/genmod/families/links.py:188: RuntimeWarning: overflow encountered in exp\n",
      "  t = np.exp(-z)\n",
      "/opt/anaconda3/lib/python3.8/site-packages/statsmodels/genmod/families/family.py:893: RuntimeWarning: divide by zero encountered in true_divide\n",
      "  endog_mu = self._clean(endog / mu)\n"
     ]
    },
    {
     "name": "stdout",
     "output_type": "stream",
     "text": [
      "Model Number: 35 of 52 with model AverageValueNaive for Validation 1\n",
      "Model Number: 36 of 52 with model ETS for Validation 1\n",
      "Model Number: 37 of 52 with model AverageValueNaive for Validation 1\n",
      "Model Number: 38 of 52 with model GLM for Validation 1\n"
     ]
    },
    {
     "name": "stderr",
     "output_type": "stream",
     "text": [
      "/opt/anaconda3/lib/python3.8/site-packages/scipy/optimize/minpack.py:828: OptimizeWarning: Covariance of the parameters could not be estimated\n",
      "  warnings.warn('Covariance of the parameters could not be estimated',\n",
      "/opt/anaconda3/lib/python3.8/site-packages/sklearn/preprocessing/_data.py:3237: RuntimeWarning: divide by zero encountered in log\n",
      "  loglike = -n_samples / 2 * np.log(x_trans.var())\n",
      "/opt/anaconda3/lib/python3.8/site-packages/statsmodels/genmod/families/links.py:188: RuntimeWarning: overflow encountered in exp\n",
      "  t = np.exp(-z)\n",
      "/opt/anaconda3/lib/python3.8/site-packages/statsmodels/genmod/families/family.py:893: RuntimeWarning: divide by zero encountered in true_divide\n",
      "  endog_mu = self._clean(endog / mu)\n"
     ]
    },
    {
     "name": "stdout",
     "output_type": "stream",
     "text": [
      "Model Number: 39 of 52 with model LastValueNaive for Validation 1\n",
      "Model Number: 40 of 52 with model AverageValueNaive for Validation 1\n",
      "Model Number: 41 of 52 with model AverageValueNaive for Validation 1\n",
      "Model Number: 42 of 52 with model AverageValueNaive for Validation 1\n",
      "Model Number: 43 of 52 with model LastValueNaive for Validation 1\n",
      "Model Number: 44 of 52 with model GLM for Validation 1\n"
     ]
    },
    {
     "name": "stderr",
     "output_type": "stream",
     "text": [
      "/opt/anaconda3/lib/python3.8/site-packages/scipy/optimize/minpack.py:828: OptimizeWarning: Covariance of the parameters could not be estimated\n",
      "  warnings.warn('Covariance of the parameters could not be estimated',\n",
      "/opt/anaconda3/lib/python3.8/site-packages/scipy/optimize/minpack.py:828: OptimizeWarning: Covariance of the parameters could not be estimated\n",
      "  warnings.warn('Covariance of the parameters could not be estimated',\n",
      "/opt/anaconda3/lib/python3.8/site-packages/sklearn/preprocessing/_data.py:3237: RuntimeWarning: divide by zero encountered in log\n",
      "  loglike = -n_samples / 2 * np.log(x_trans.var())\n"
     ]
    },
    {
     "name": "stdout",
     "output_type": "stream",
     "text": [
      "Model Number: 45 of 52 with model DatepartRegression for Validation 1\n"
     ]
    },
    {
     "name": "stderr",
     "output_type": "stream",
     "text": [
      "[Parallel(n_jobs=1)]: Using backend SequentialBackend with 1 concurrent workers.\n",
      "[Parallel(n_jobs=1)]: Done 1000 out of 1000 | elapsed:    0.6s finished\n",
      "[Parallel(n_jobs=1)]: Using backend SequentialBackend with 1 concurrent workers.\n",
      "[Parallel(n_jobs=1)]: Done 1000 out of 1000 | elapsed:    0.1s finished\n",
      "/opt/anaconda3/lib/python3.8/site-packages/sklearn/preprocessing/_data.py:3237: RuntimeWarning: divide by zero encountered in log\n",
      "  loglike = -n_samples / 2 * np.log(x_trans.var())\n"
     ]
    },
    {
     "name": "stdout",
     "output_type": "stream",
     "text": [
      "Model Number: 46 of 52 with model GLS for Validation 1\n",
      "Model Number: 47 of 52 with model GLS for Validation 1\n",
      "Model Number: 48 of 52 with model ZeroesNaive for Validation 1\n",
      "Model Number: 49 of 52 with model ZeroesNaive for Validation 1\n",
      "Model Number: 50 of 52 with model DatepartRegression for Validation 1\n",
      "Model Number: 51 of 52 with model DatepartRegression for Validation 1\n",
      "Model Number: 52 of 52 with model DatepartRegression for Validation 1\n"
     ]
    },
    {
     "name": "stderr",
     "output_type": "stream",
     "text": [
      "[Parallel(n_jobs=1)]: Using backend SequentialBackend with 1 concurrent workers.\n",
      "[Parallel(n_jobs=1)]: Done 1000 out of 1000 | elapsed:    0.6s finished\n",
      "[Parallel(n_jobs=1)]: Using backend SequentialBackend with 1 concurrent workers.\n",
      "[Parallel(n_jobs=1)]: Done 1000 out of 1000 | elapsed:    0.1s finished\n"
     ]
    },
    {
     "name": "stdout",
     "output_type": "stream",
     "text": [
      "Validation Round: 2\n",
      "Model Number: 1 of 52 with model SeasonalNaive for Validation 2\n",
      "Model Number: 2 of 52 with model Ensemble for Validation 2\n",
      "Model Number: 3 of 52 with model Ensemble for Validation 2\n",
      "Model Number: 4 of 52 with model LastValueNaive for Validation 2\n",
      "Model Number: 5 of 52 with model UnobservedComponents for Validation 2\n",
      "Model Number: 6 of 52 with model UnobservedComponents for Validation 2\n",
      "Model Number: 7 of 52 with model UnobservedComponents for Validation 2\n",
      "Model Number: 8 of 52 with model UnobservedComponents for Validation 2\n",
      "Model Number: 9 of 52 with model ETS for Validation 2\n"
     ]
    },
    {
     "name": "stderr",
     "output_type": "stream",
     "text": [
      "/opt/anaconda3/lib/python3.8/site-packages/statsmodels/tsa/holtwinters.py:956: RuntimeWarning: divide by zero encountered in log\n",
      "  aic = self.nobs * np.log(sse / self.nobs) + k * 2\n",
      "/opt/anaconda3/lib/python3.8/site-packages/statsmodels/tsa/holtwinters.py:962: RuntimeWarning: divide by zero encountered in log\n",
      "  bic = self.nobs * np.log(sse / self.nobs) + k * np.log(self.nobs)\n"
     ]
    },
    {
     "name": "stdout",
     "output_type": "stream",
     "text": [
      "Model Number: 10 of 52 with model SeasonalNaive for Validation 2\n",
      "Model Number: 11 of 52 with model SeasonalNaive for Validation 2\n",
      "Model Number: 12 of 52 with model GLS for Validation 2\n",
      "Model Number: 13 of 52 with model SeasonalNaive for Validation 2\n",
      "Model Number: 14 of 52 with model RollingRegression for Validation 2\n",
      "Model Number: 15 of 52 with model SeasonalNaive for Validation 2\n",
      "Model Number: 16 of 52 with model RollingRegression for Validation 2\n",
      "Model Number: 17 of 52 with model RollingRegression for Validation 2\n",
      "Model Number: 18 of 52 with model RollingRegression for Validation 2\n",
      "Model Number: 19 of 52 with model RollingRegression for Validation 2\n",
      "Model Number: 20 of 52 with model UnobservedComponents for Validation 2\n",
      "Model Number: 21 of 52 with model GLS for Validation 2\n",
      "Model Number: 22 of 52 with model GLS for Validation 2\n",
      "Model Number: 23 of 52 with model ZeroesNaive for Validation 2\n",
      "Model Number: 24 of 52 with model WindowRegression for Validation 2\n"
     ]
    },
    {
     "name": "stderr",
     "output_type": "stream",
     "text": [
      "/opt/anaconda3/lib/python3.8/site-packages/sklearn/neural_network/_multilayer_perceptron.py:500: ConvergenceWarning: lbfgs failed to converge (status=1):\n",
      "STOP: TOTAL NO. of ITERATIONS REACHED LIMIT.\n",
      "\n",
      "Increase the number of iterations (max_iter) or scale the data as shown in:\n",
      "    https://scikit-learn.org/stable/modules/preprocessing.html\n",
      "  self.n_iter_ = _check_optimize_result(\"lbfgs\", opt_res, self.max_iter)\n",
      "/opt/anaconda3/lib/python3.8/site-packages/statsmodels/tsa/holtwinters.py:956: RuntimeWarning: divide by zero encountered in log\n",
      "  aic = self.nobs * np.log(sse / self.nobs) + k * 2\n",
      "/opt/anaconda3/lib/python3.8/site-packages/statsmodels/tsa/holtwinters.py:962: RuntimeWarning: divide by zero encountered in log\n",
      "  bic = self.nobs * np.log(sse / self.nobs) + k * np.log(self.nobs)\n",
      "/opt/anaconda3/lib/python3.8/site-packages/sklearn/preprocessing/_data.py:3237: RuntimeWarning: divide by zero encountered in log\n",
      "  loglike = -n_samples / 2 * np.log(x_trans.var())\n",
      "/opt/anaconda3/lib/python3.8/site-packages/statsmodels/genmod/families/links.py:188: RuntimeWarning: overflow encountered in exp\n",
      "  t = np.exp(-z)\n",
      "/opt/anaconda3/lib/python3.8/site-packages/statsmodels/genmod/families/family.py:893: RuntimeWarning: divide by zero encountered in true_divide\n",
      "  endog_mu = self._clean(endog / mu)\n"
     ]
    },
    {
     "name": "stdout",
     "output_type": "stream",
     "text": [
      "Model Number: 25 of 52 with model ETS for Validation 2\n",
      "Model Number: 26 of 52 with model LastValueNaive for Validation 2\n",
      "Model Number: 27 of 52 with model GLM for Validation 2\n",
      "Model Number: 28 of 52 with model ETS for Validation 2\n",
      "Model Number: 29 of 52 with model DatepartRegression for Validation 2\n"
     ]
    },
    {
     "name": "stderr",
     "output_type": "stream",
     "text": [
      "/opt/anaconda3/lib/python3.8/site-packages/sklearn/neural_network/_multilayer_perceptron.py:500: ConvergenceWarning: lbfgs failed to converge (status=1):\n",
      "STOP: TOTAL NO. of ITERATIONS REACHED LIMIT.\n",
      "\n",
      "Increase the number of iterations (max_iter) or scale the data as shown in:\n",
      "    https://scikit-learn.org/stable/modules/preprocessing.html\n",
      "  self.n_iter_ = _check_optimize_result(\"lbfgs\", opt_res, self.max_iter)\n"
     ]
    },
    {
     "name": "stdout",
     "output_type": "stream",
     "text": [
      "Model Number: 30 of 52 with model WindowRegression for Validation 2\n",
      "Model Number: 31 of 52 with model WindowRegression for Validation 2\n",
      "Model Number: 32 of 52 with model ETS for Validation 2\n",
      "Model Number: 33 of 52 with model LastValueNaive for Validation 2\n"
     ]
    },
    {
     "name": "stderr",
     "output_type": "stream",
     "text": [
      "/opt/anaconda3/lib/python3.8/site-packages/sklearn/preprocessing/_data.py:3237: RuntimeWarning: divide by zero encountered in log\n",
      "  loglike = -n_samples / 2 * np.log(x_trans.var())\n",
      "/opt/anaconda3/lib/python3.8/site-packages/statsmodels/tsa/holtwinters.py:956: RuntimeWarning: divide by zero encountered in log\n",
      "  aic = self.nobs * np.log(sse / self.nobs) + k * 2\n",
      "/opt/anaconda3/lib/python3.8/site-packages/statsmodels/tsa/holtwinters.py:962: RuntimeWarning: divide by zero encountered in log\n",
      "  bic = self.nobs * np.log(sse / self.nobs) + k * np.log(self.nobs)\n",
      "/opt/anaconda3/lib/python3.8/site-packages/scipy/optimize/minpack.py:828: OptimizeWarning: Covariance of the parameters could not be estimated\n",
      "  warnings.warn('Covariance of the parameters could not be estimated',\n"
     ]
    },
    {
     "name": "stdout",
     "output_type": "stream",
     "text": [
      "Model Number: 34 of 52 with model GLM for Validation 2\n",
      "Model Number: 35 of 52 with model AverageValueNaive for Validation 2\n",
      "Model Number: 36 of 52 with model ETS for Validation 2\n"
     ]
    },
    {
     "name": "stderr",
     "output_type": "stream",
     "text": [
      "/opt/anaconda3/lib/python3.8/site-packages/sklearn/preprocessing/_data.py:3237: RuntimeWarning: divide by zero encountered in log\n",
      "  loglike = -n_samples / 2 * np.log(x_trans.var())\n",
      "/opt/anaconda3/lib/python3.8/site-packages/statsmodels/genmod/families/links.py:188: RuntimeWarning: overflow encountered in exp\n",
      "  t = np.exp(-z)\n",
      "/opt/anaconda3/lib/python3.8/site-packages/statsmodels/genmod/families/family.py:893: RuntimeWarning: divide by zero encountered in true_divide\n",
      "  endog_mu = self._clean(endog / mu)\n",
      "/opt/anaconda3/lib/python3.8/site-packages/scipy/optimize/minpack.py:828: OptimizeWarning: Covariance of the parameters could not be estimated\n",
      "  warnings.warn('Covariance of the parameters could not be estimated',\n"
     ]
    },
    {
     "name": "stdout",
     "output_type": "stream",
     "text": [
      "Model Number: 37 of 52 with model AverageValueNaive for Validation 2\n",
      "Model Number: 38 of 52 with model GLM for Validation 2\n",
      "Model Number: 39 of 52 with model LastValueNaive for Validation 2\n"
     ]
    },
    {
     "name": "stderr",
     "output_type": "stream",
     "text": [
      "/opt/anaconda3/lib/python3.8/site-packages/sklearn/preprocessing/_data.py:3237: RuntimeWarning: divide by zero encountered in log\n",
      "  loglike = -n_samples / 2 * np.log(x_trans.var())\n",
      "/opt/anaconda3/lib/python3.8/site-packages/statsmodels/genmod/families/links.py:188: RuntimeWarning: overflow encountered in exp\n",
      "  t = np.exp(-z)\n",
      "/opt/anaconda3/lib/python3.8/site-packages/statsmodels/genmod/families/family.py:893: RuntimeWarning: divide by zero encountered in true_divide\n",
      "  endog_mu = self._clean(endog / mu)\n",
      "/opt/anaconda3/lib/python3.8/site-packages/scipy/optimize/minpack.py:828: OptimizeWarning: Covariance of the parameters could not be estimated\n",
      "  warnings.warn('Covariance of the parameters could not be estimated',\n",
      "/opt/anaconda3/lib/python3.8/site-packages/scipy/optimize/minpack.py:828: OptimizeWarning: Covariance of the parameters could not be estimated\n",
      "  warnings.warn('Covariance of the parameters could not be estimated',\n",
      "/opt/anaconda3/lib/python3.8/site-packages/sklearn/preprocessing/_data.py:3237: RuntimeWarning: divide by zero encountered in log\n",
      "  loglike = -n_samples / 2 * np.log(x_trans.var())\n"
     ]
    },
    {
     "name": "stdout",
     "output_type": "stream",
     "text": [
      "Model Number: 40 of 52 with model AverageValueNaive for Validation 2\n",
      "Model Number: 41 of 52 with model AverageValueNaive for Validation 2\n",
      "Model Number: 42 of 52 with model AverageValueNaive for Validation 2\n",
      "Model Number: 43 of 52 with model LastValueNaive for Validation 2\n",
      "Model Number: 44 of 52 with model GLM for Validation 2\n",
      "Model Number: 45 of 52 with model DatepartRegression for Validation 2\n"
     ]
    },
    {
     "name": "stderr",
     "output_type": "stream",
     "text": [
      "[Parallel(n_jobs=1)]: Using backend SequentialBackend with 1 concurrent workers.\n",
      "[Parallel(n_jobs=1)]: Done 1000 out of 1000 | elapsed:    0.6s finished\n",
      "[Parallel(n_jobs=1)]: Using backend SequentialBackend with 1 concurrent workers.\n",
      "[Parallel(n_jobs=1)]: Done 1000 out of 1000 | elapsed:    0.1s finished\n",
      "/opt/anaconda3/lib/python3.8/site-packages/sklearn/preprocessing/_data.py:3237: RuntimeWarning: divide by zero encountered in log\n",
      "  loglike = -n_samples / 2 * np.log(x_trans.var())\n"
     ]
    },
    {
     "name": "stdout",
     "output_type": "stream",
     "text": [
      "Model Number: 46 of 52 with model GLS for Validation 2\n",
      "Model Number: 47 of 52 with model GLS for Validation 2\n",
      "Model Number: 48 of 52 with model ZeroesNaive for Validation 2\n",
      "Model Number: 49 of 52 with model ZeroesNaive for Validation 2\n",
      "Model Number: 50 of 52 with model DatepartRegression for Validation 2\n",
      "Model Number: 51 of 52 with model DatepartRegression for Validation 2\n",
      "Model Number: 52 of 52 with model DatepartRegression for Validation 2\n"
     ]
    },
    {
     "name": "stderr",
     "output_type": "stream",
     "text": [
      "[Parallel(n_jobs=1)]: Using backend SequentialBackend with 1 concurrent workers.\n",
      "[Parallel(n_jobs=1)]: Done 1000 out of 1000 | elapsed:    0.6s finished\n",
      "[Parallel(n_jobs=1)]: Using backend SequentialBackend with 1 concurrent workers.\n",
      "[Parallel(n_jobs=1)]: Done 1000 out of 1000 | elapsed:    0.1s finished\n"
     ]
    }
   ],
   "source": [
    "from autots import AutoTS\n",
    "\n",
    "model = AutoTS(\n",
    "    forecast_length=3,\n",
    "    frequency='infer',\n",
    "    ensemble='simple',\n",
    "    max_generations=5,\n",
    "    validation_method='backwards',\n",
    "    num_validations=2,\n",
    ")\n",
    "model = model.fit(df)"
   ]
  },
  {
   "cell_type": "code",
   "execution_count": 13,
   "metadata": {},
   "outputs": [
    {
     "name": "stdout",
     "output_type": "stream",
     "text": [
      "Initiated AutoTS object with best model: \n",
      "SeasonalNaive\n",
      "{\"fillna\": \"fake_date\", \"transformations\": {\"0\": \"PositiveShift\", \"1\": \"Detrend\", \"2\": \"bkfilter\", \"3\": \"DifferencedTransformer\"}, \"transformation_params\": {\"0\": {}, \"1\": {\"model\": \"Linear\"}, \"2\": {}, \"3\": {}}}\n",
      "{\"method\": \"LastValue\", \"lag_1\": 364, \"lag_2\": 12}\n"
     ]
    }
   ],
   "source": [
    "print(model)"
   ]
  },
  {
   "cell_type": "code",
   "execution_count": 14,
   "metadata": {},
   "outputs": [
    {
     "name": "stdout",
     "output_type": "stream",
     "text": [
      "                 Open       High        Low      Close        Volume  \\\n",
      "2021-05-12  40.869792  43.318356  39.235951  43.454171  3.499255e+08   \n",
      "2021-05-13  39.226600  42.095171  38.574808  42.690047  1.901746e+08   \n",
      "2021-05-14  38.569946  40.643499  37.450873  40.755359  1.489929e+07   \n",
      "\n",
      "            Dividends  Stock Splits  \n",
      "2021-05-12        0.0           0.0  \n",
      "2021-05-13        0.0           0.0  \n",
      "2021-05-14        0.0           0.0  \n",
      "                 Open       High        Low      Close        Volume  \\\n",
      "2021-05-12  42.281317  44.648728  40.578307  45.088219  4.869138e+08   \n",
      "2021-05-13  41.948317  44.920527  41.460565  46.168189  4.823378e+08   \n",
      "2021-05-14  42.799161  44.918142  41.787474  45.843483  4.591323e+08   \n",
      "\n",
      "            Dividends  Stock Splits  \n",
      "2021-05-12        0.0           0.0  \n",
      "2021-05-13        0.0           0.0  \n",
      "2021-05-14        0.0           0.0  \n"
     ]
    }
   ],
   "source": [
    "prediction = model.predict()\n",
    "forecasts_df = prediction.forecast\n",
    "print(prediction.lower_forecast)\n",
    "print(forecasts_df)"
   ]
  },
  {
   "cell_type": "markdown",
   "metadata": {},
   "source": [
    "# Technical Indicators"
   ]
  },
  {
   "cell_type": "code",
   "execution_count": 62,
   "metadata": {},
   "outputs": [
    {
     "name": "stdout",
     "output_type": "stream",
     "text": [
      "[        nan         nan         nan         nan         nan         nan\n",
      "         nan         nan         nan         nan         nan         nan\n",
      "         nan         nan         nan         nan         nan         nan\n",
      "         nan         nan         nan         nan         nan         nan\n",
      "         nan         nan         nan         nan         nan         nan\n",
      "         nan         nan         nan -5.02238099 -4.41321155 -3.88564903\n",
      " -2.86963112 -1.48249878 -1.09676833 -1.34046363 -1.59588914 -2.57554287\n",
      " -3.39349901 -3.11818261 -2.22876739 -1.50653304 -1.56168809 -1.74664789\n",
      " -2.82891954 -3.40529854 -4.29670318 -4.78658769 -4.15858738 -4.41689383] [         nan          nan          nan          nan          nan\n",
      "          nan          nan          nan          nan          nan\n",
      "          nan          nan          nan          nan          nan\n",
      "          nan          nan          nan          nan          nan\n",
      "          nan          nan          nan          nan          nan\n",
      "          nan          nan          nan          nan          nan\n",
      "          nan          nan          nan -10.12419825  -8.98200091\n",
      "  -7.96273053  -6.94411065  -5.85178827  -4.90078428  -4.18872015\n",
      "  -3.67015395  -3.45123174  -3.43968519  -3.37538467  -3.14606122\n",
      "  -2.81815558  -2.56686208  -2.40281924  -2.4880393   -2.67149115\n",
      "  -2.99653356  -3.35454438  -3.51535298  -3.69566115] [        nan         nan         nan         nan         nan         nan\n",
      "         nan         nan         nan         nan         nan         nan\n",
      "         nan         nan         nan         nan         nan         nan\n",
      "         nan         nan         nan         nan         nan         nan\n",
      "         nan         nan         nan         nan         nan         nan\n",
      "         nan         nan         nan  5.10181725  4.56878936  4.0770815\n",
      "  4.07447953  4.3692895   3.80401596  2.84825652  2.07426481  0.87568886\n",
      "  0.04618618  0.25720207  0.91729383  1.31162254  1.00517399  0.65617136\n",
      " -0.34088024 -0.73380739 -1.30016962 -1.43204331 -0.6432344  -0.72123268]\n"
     ]
    }
   ],
   "source": [
    "from talib import abstract\n",
    "\n",
    "macd, macdsignal, macdhist = abstract.MACD(df['Close'], fastperiod=12, slowperiod=26, signalperiod=9)\n",
    "\n",
    "print(macd, macdsignal, macdhist)"
   ]
  },
  {
   "cell_type": "code",
   "execution_count": 66,
   "metadata": {},
   "outputs": [
    {
     "name": "stdout",
     "output_type": "stream",
     "text": [
      "             open   high    low  close    volume  Dividends  Stock Splits  \\\n",
      "date                                                                        \n",
      "2021-05-04  588.0  594.0  582.0  591.0  40273595        0.0             0   \n",
      "2021-05-05  594.0  594.0  585.0  585.0  29254785        0.0             0   \n",
      "2021-05-06  590.0  590.0  580.0  587.0  30725590        0.0             0   \n",
      "2021-05-07  594.0  600.0  589.0  599.0  28075722        0.0             0   \n",
      "2021-05-10  596.0  597.0  588.0  589.0  21077504        0.0             0   \n",
      "\n",
      "            CUMLOGRET_1  CUMPCTRET_1  SMA_10  MACD_12_26_9  MACDh_12_26_9  \\\n",
      "date                                                                        \n",
      "2021-05-04    -0.110872    -0.105281   598.8     -3.443430      -0.655894   \n",
      "2021-05-05    -0.121076    -0.115433   597.1     -4.328969      -1.233146   \n",
      "2021-05-06    -0.117664    -0.112014   596.6     -4.813889      -1.374453   \n",
      "2021-05-07    -0.097427    -0.091571   597.4     -4.181689      -0.593802   \n",
      "2021-05-10    -0.114262    -0.108266   596.1     -4.436441      -0.678844   \n",
      "\n",
      "            MACDs_12_26_9  \n",
      "date                       \n",
      "2021-05-04      -2.787536  \n",
      "2021-05-05      -3.095823  \n",
      "2021-05-06      -3.439436  \n",
      "2021-05-07      -3.587887  \n",
      "2021-05-10      -3.757597  \n"
     ]
    }
   ],
   "source": [
    "import pandas_ta as ta\n",
    "\n",
    "df.ta.sma(append=True)\n",
    "df.ta.macd(append=True)\n",
    "print(df.tail())"
   ]
  },
  {
   "cell_type": "markdown",
   "metadata": {},
   "source": [
    "## Feature Selection\n",
    "Automatically select the best fitted indicator under current scenario"
   ]
  },
  {
   "cell_type": "code",
   "execution_count": 16,
   "metadata": {},
   "outputs": [],
   "source": [
    "from tsfresh.feature_extraction.feature_calculators import set_property\n",
    "\n",
    "@set_property(\"fctype\", \"simple\")\n",
    "def sma(x):\n",
    "    return ta.sma(df[\"close\"], length=10)"
   ]
  },
  {
   "cell_type": "code",
   "execution_count": null,
   "metadata": {},
   "outputs": [],
   "source": [
    "from tsfresh import extract_features\n",
    "from tsfresh import select_features\n",
    "from tsfresh.utilities.dataframe_functions import impute\n",
    "\n",
    "extracted_features = extract_features(timeseries, column_id=\"id\", column_sort=\"time\")\n",
    "impute(extracted_features)\n",
    "features_filtered = select_features(extracted_features, y)\n",
    "features_filtered_direct = extract_relevant_features(timeseries, y, column_id='id', column_sort='time')\n",
    "\n",
    "print(features_filtered_direct)"
   ]
  },
  {
   "cell_type": "markdown",
   "metadata": {},
   "source": [
    "# Validate Profit and Loss"
   ]
  },
  {
   "cell_type": "code",
   "execution_count": null,
   "metadata": {},
   "outputs": [],
   "source": []
  },
  {
   "cell_type": "markdown",
   "metadata": {},
   "source": [
    "# Exponential fitting"
   ]
  },
  {
   "cell_type": "code",
   "execution_count": 59,
   "metadata": {},
   "outputs": [
    {
     "name": "stdout",
     "output_type": "stream",
     "text": [
      "[ 14.38648216   0.47623435 -28.72348317]\n",
      "[[ 1.15614092e+03 -1.21653408e+01 -2.37748819e+03]\n",
      " [-1.21653408e+01  1.29073232e-01  2.44939017e+01]\n",
      " [-2.37748819e+03  2.44939017e+01  5.43106434e+03]]\n"
     ]
    }
   ],
   "source": [
    "import numpy as np\n",
    "from scipy.optimize import curve_fit\n",
    "\n",
    "\n",
    "def fitting_ansatz(x: float, a: float, b: float, c: float) -> float:\n",
    "    return a * np.exp(b * x) + c\n",
    "\n",
    "x = np.arange(1, 7)\n",
    "y = np.array([7, 16, 13, 29, 180, 206])\n",
    "popt, pcov = curve_fit(fitting_ansatz, x, y)\n",
    "print(popt)\n",
    "print(pcov)"
   ]
  },
  {
   "cell_type": "code",
   "execution_count": 60,
   "metadata": {},
   "outputs": [
    {
     "data": {
      "text/plain": [
       "<matplotlib.legend.Legend at 0x7fc1f14c85e0>"
      ]
     },
     "execution_count": 60,
     "metadata": {},
     "output_type": "execute_result"
    },
    {
     "data": {
      "image/png": "[encoded data removed]",
      "text/plain": [
       "<Figure size 432x288 with 1 Axes>"
      ]
     },
     "metadata": {
      "needs_background": "light"
     },
     "output_type": "display_data"
    }
   ],
   "source": [
    "import matplotlib.pyplot as plt\n",
    "\n",
    "plt.scatter(x, y, label=\"cases\")\n",
    "future_x = np.arange(1, 8)\n",
    "plt.plot(future_x, fitting_ansatz(future_x, *popt), label=\"exponential fiting\")\n",
    "plt.xlabel(\"time (day)\")\n",
    "plt.ylabel(\"number of cases\")\n",
    "plt.legend()"
   ]
  },
  {
   "cell_type": "code",
   "execution_count": 61,
   "metadata": {},
   "outputs": [
    {
     "name": "stdout",
     "output_type": "stream",
     "text": [
      "0.8784696565193162\n"
     ]
    }
   ],
   "source": [
    "std = np.sqrt(np.diag(pcov))\n",
    "res = y - fitting_ansatz(x, *popt)\n",
    "R2 = 1 - (np.sum(res**2)/np.sum((y-np.mean(y))**2))\n",
    "print(R2)"
   ]
  },
  {
   "cell_type": "code",
   "execution_count": null,
   "metadata": {},
   "outputs": [],
   "source": []
  }
 ],
 "metadata": {
  "kernelspec": {
   "display_name": "Python 3",
   "language": "python",
   "name": "python3"
  },
  "language_info": {
   "codemirror_mode": {
    "name": "ipython",
    "version": 3
   },
   "file_extension": ".py",
   "mimetype": "text/x-python",
   "name": "python",
   "nbconvert_exporter": "python",
   "pygments_lexer": "ipython3",
   "version": "3.8.3"
  }
 },
 "nbformat": 4,
 "nbformat_minor": 4
}
